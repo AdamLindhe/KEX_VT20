{
 "cells": [
  {
   "cell_type": "code",
   "execution_count": 2,
   "metadata": {},
   "outputs": [],
   "source": [
    "#importerar tensorflow och de funktioner jag vill använda\n",
    "import tensorflow as tf\n",
    "import numpy as np\n",
    "import matplotlib.pyplot as plt\n",
    "from tensorflow.keras.layers import Input, Dense, Flatten\n",
    "from tensorflow.keras.models import Model\n",
    "from tensorflow.keras.datasets import mnist\n",
    "from tensorflow.keras.utils import to_categorical"
   ]
  },
  {
   "cell_type": "code",
   "execution_count": 4,
   "metadata": {},
   "outputs": [],
   "source": [
    "#importerar mnist, skalar om för att få v'rden mellan 0 och 1\n",
    "(x_train, y_train), (x_test, y_test) = mnist.load_data()\n",
    "x_train = x_train / 255\n",
    "x_test = x_test / 255\n",
    "#gör om label y från siffer värden 0,4,5,6 etc till 10 dim vectorer [0,0,0,0,1,0,0,0,0,0] = 4\n",
    "y_train = to_categorical(y_train)\n",
    "y_test = to_categorical(y_test)"
   ]
  },
  {
   "cell_type": "code",
   "execution_count": 5,
   "metadata": {},
   "outputs": [
    {
     "data": {
      "text/plain": [
       "<matplotlib.image.AxesImage at 0x7ff970249518>"
      ]
     },
     "execution_count": 5,
     "metadata": {},
     "output_type": "execute_result"
    },
    {
     "data": {
      "image/png": "[encoded data removed]",
      "text/plain": [
       "<Figure size 432x288 with 1 Axes>"
      ]
     },
     "metadata": {
      "needs_background": "light"
     },
     "output_type": "display_data"
    }
   ],
   "source": [
    "#plotarr input datan\n",
    "plt.imshow(x_train[0])"
   ]
  },
  {
   "cell_type": "markdown",
   "metadata": {},
   "source": [
    "Nu ska vi skapa våran model. Vi gör en med 2 hidden layers som har relu funktionen som aktivering. Sista output lagret har en softmax funktion som aktivering och är 10 dimensioner. Detta skapar en vektor som vi tolkar som sannolikheten för varje siffra"
   ]
  },
  {
   "cell_type": "code",
   "execution_count": 6,
   "metadata": {},
   "outputs": [],
   "source": [
    "inp_lay = Input(shape=(28,28,)) #Input lagret skapas med Input. Våra bilder kommer vara 28,28 stora\n",
    "flat = Flatten()(inp_lay) # Dense lagren vill ha platta vektorer så detta lager gör om 28,28 bilder till en 784 lång vektor\n",
    "dense_1 = Dense(units = 500, activation='relu')(flat) #Första hidden layer som är 500 stort. tar föregående lagrets output, flat, som input.\n",
    "dense_2 = Dense(units = 100, activation='relu')(dense_1) #Andra hidden layer\n",
    "out = Dense(units = 10, activation='softmax')(dense_2) #output lagret. \n",
    "\n",
    "model = Model(inp_lay, out) #Vi skapar våran model med Model kommandot. Specifierar var vi tar in data och var vi tar ut data\n",
    "model.compile(optimizer = 'Adam', loss = 'categorical_crossentropy', metrics = ['accuracy']) #Kompilerar modellen. använder adam som optimizer, och crossentropy som loss funktion"
   ]
  },
  {
   "cell_type": "code",
   "execution_count": 7,
   "metadata": {},
   "outputs": [
    {
     "name": "stdout",
     "output_type": "stream",
     "text": [
      "Model: \"model_1\"\n",
      "_________________________________________________________________\n",
      "Layer (type)                 Output Shape              Param #   \n",
      "=================================================================\n",
      "input_2 (InputLayer)         [(None, 28, 28)]          0         \n",
      "_________________________________________________________________\n",
      "flatten_1 (Flatten)          (None, 784)               0         \n",
      "_________________________________________________________________\n",
      "dense_3 (Dense)              (None, 500)               392500    \n",
      "_________________________________________________________________\n",
      "dense_4 (Dense)              (None, 100)               50100     \n",
      "_________________________________________________________________\n",
      "dense_5 (Dense)              (None, 10)                1010      \n",
      "=================================================================\n",
      "Total params: 443,610\n",
      "Trainable params: 443,610\n",
      "Non-trainable params: 0\n",
      "_________________________________________________________________\n"
     ]
    }
   ],
   "source": [
    "model.summary()"
   ]
  },
  {
   "cell_type": "code",
   "execution_count": 8,
   "metadata": {},
   "outputs": [
    {
     "name": "stdout",
     "output_type": "stream",
     "text": [
      "Train on 60000 samples, validate on 10000 samples\n",
      "Epoch 1/10\n",
      "60000/60000 [==============================] - 5s 82us/sample - loss: 0.1991 - accuracy: 0.9401 - val_loss: 0.0947 - val_accuracy: 0.9694\n",
      "Epoch 2/10\n",
      "60000/60000 [==============================] - 4s 74us/sample - loss: 0.0806 - accuracy: 0.9749 - val_loss: 0.0707 - val_accuracy: 0.9767\n",
      "Epoch 3/10\n",
      "60000/60000 [==============================] - 4s 74us/sample - loss: 0.0560 - accuracy: 0.9818 - val_loss: 0.0964 - val_accuracy: 0.9723\n",
      "Epoch 4/10\n",
      "60000/60000 [==============================] - 4s 74us/sample - loss: 0.0383 - accuracy: 0.9878 - val_loss: 0.0786 - val_accuracy: 0.9781\n",
      "Epoch 5/10\n",
      "60000/60000 [==============================] - 4s 75us/sample - loss: 0.0343 - accuracy: 0.9887 - val_loss: 0.0740 - val_accuracy: 0.9778\n",
      "Epoch 6/10\n",
      "60000/60000 [==============================] - 5s 80us/sample - loss: 0.0259 - accuracy: 0.9916 - val_loss: 0.0807 - val_accuracy: 0.9787\n",
      "Epoch 7/10\n",
      "60000/60000 [==============================] - 5s 75us/sample - loss: 0.0223 - accuracy: 0.9925 - val_loss: 0.0885 - val_accuracy: 0.9788\n",
      "Epoch 8/10\n",
      "60000/60000 [==============================] - 4s 75us/sample - loss: 0.0198 - accuracy: 0.9936 - val_loss: 0.0884 - val_accuracy: 0.9789\n",
      "Epoch 9/10\n",
      "60000/60000 [==============================] - 5s 77us/sample - loss: 0.0167 - accuracy: 0.9945 - val_loss: 0.1155 - val_accuracy: 0.9752\n",
      "Epoch 10/10\n",
      "60000/60000 [==============================] - 5s 82us/sample - loss: 0.0164 - accuracy: 0.9945 - val_loss: 0.0896 - val_accuracy: 0.9815\n"
     ]
    }
   ],
   "source": [
    "his = model.fit(x_train, y_train,batch_size=32, epochs=10, validation_data=(x_test,y_test)) #Tränar datan, vi gör 10 epocher alltså vi går igenom dtan 10 ggr"
   ]
  },
  {
   "cell_type": "markdown",
   "metadata": {},
   "source": [
    "Nu har vi tränat våran modell. Vi fick ca 99% accuracy på träningsdatan och 98% på test datan. Lite overfitting. Vi kan titta på hur lossen och accuracyn ökade respektive minskade genom  att plotta de kurvorna"
   ]
  },
  {
   "cell_type": "code",
   "execution_count": 10,
   "metadata": {},
   "outputs": [
    {
     "data": {
      "text/plain": [
       "<matplotlib.legend.Legend at 0x7ff968616fd0>"
      ]
     },
     "execution_count": 10,
     "metadata": {},
     "output_type": "execute_result"
    },
    {
     "data": {
      "image/png": "[encoded data removed]",
      "text/plain": [
       "<Figure size 432x288 with 1 Axes>"
      ]
     },
     "metadata": {
      "needs_background": "light"
     },
     "output_type": "display_data"
    }
   ],
   "source": [
    "plt.plot(his.history['loss'],label = 'training loss')\n",
    "plt.plot(his.history['val_loss'], label = 'test loss')\n",
    "plt.legend()"
   ]
  },
  {
   "cell_type": "code",
   "execution_count": 12,
   "metadata": {},
   "outputs": [
    {
     "data": {
      "text/plain": [
       "<matplotlib.legend.Legend at 0x7ff908c96710>"
      ]
     },
     "execution_count": 12,
     "metadata": {},
     "output_type": "execute_result"
    },
    {
     "data": {
      "image/png": "[encoded data removed]",
      "text/plain": [
       "<Figure size 432x288 with 1 Axes>"
      ]
     },
     "metadata": {
      "needs_background": "light"
     },
     "output_type": "display_data"
    }
   ],
   "source": [
    "plt.plot(his.history['accuracy'], label = 'training accuracy')\n",
    "plt.plot(his.history['val_accuracy'], label = 'test accuracy')\n",
    "plt.legend()"
   ]
  },
  {
   "cell_type": "markdown",
   "metadata": {},
   "source": [
    "Vi ser att trainig lossen går kontunerligt neråt medans test lossen verkar stagnera fort. Tydligt att vi overfittar. Vi tittar på några bilder och ser vad vi klassifierar de som"
   ]
  },
  {
   "cell_type": "code",
   "execution_count": 13,
   "metadata": {},
   "outputs": [
    {
     "data": {
      "image/png": "[encoded data removed]",
      "text/plain": [
       "<Figure size 432x288 with 8 Axes>"
      ]
     },
     "metadata": {
      "needs_background": "light"
     },
     "output_type": "display_data"
    }
   ],
   "source": [
    "fig, ax = plt.subplots(nrows=2, ncols=4)\n",
    "count = 0\n",
    "for rows in ax:\n",
    "    for col in rows:\n",
    "        col.imshow(x_test[count])\n",
    "        col.axis('off')\n",
    "        pred = np.argmax(model.predict(x_test[count:count+1]))\n",
    "        col.set_title(pred)\n",
    "        count+=1\n"
   ]
  },
  {
   "cell_type": "markdown",
   "metadata": {},
   "source": [
    "Nedan är ett exempel på en bild som klassifieras fel, vi kan titta på outputen och ser att fyran får en 70% sannolikhet att vara en nia."
   ]
  },
  {
   "cell_type": "code",
   "execution_count": 17,
   "metadata": {},
   "outputs": [
    {
     "data": {
      "image/png": "[encoded data removed]",
      "text/plain": [
       "<Figure size 432x288 with 1 Axes>"
      ]
     },
     "metadata": {
      "needs_background": "light"
     },
     "output_type": "display_data"
    },
    {
     "data": {
      "image/png": "[encoded data removed]",
      "text/plain": [
       "<Figure size 432x288 with 1 Axes>"
      ]
     },
     "metadata": {
      "needs_background": "light"
     },
     "output_type": "display_data"
    }
   ],
   "source": [
    "nr = 115\n",
    "plt.imshow(x_test[nr])\n",
    "plt.title(np.argmax(y_test[nr]))\n",
    "plt.axis('off')\n",
    "pred = model.predict(x_test[nr:nr+1])[0]\n",
    "plt.figure()\n",
    "plt.bar(x = np.arange(0,10,1), height = pred)\n",
    "plt.show()"
   ]
  },
  {
   "cell_type": "code",
   "execution_count": 15,
   "metadata": {},
   "outputs": [
    {
     "data": {
      "text/plain": [
       "array([149, 115, 151,  92, 175, 125,  65, 171,  93, 104,   7, 189, 193,\n",
       "        96, 177,  20,  78, 191,  62,  21,  40,  74, 119, 121,  18,  95,\n",
       "       167,   8,  81, 195,   9, 178,   2, 176, 159,  89, 111,  59, 126,\n",
       "        90, 160,  73, 184,  39, 135, 196,  24,   5, 180,  43,   4,  31,\n",
       "       114,  46, 118, 143, 137,  57, 154,  97,  77,  98,  14,  37, 106,\n",
       "        26, 187,  49,  63,  41, 190, 122, 173,  86, 120,  58, 112,  79,\n",
       "       109, 105, 130,  38, 199, 158, 182,  53, 142,  66,  35, 168,  16,\n",
       "       185,  15,  36, 108, 107, 150, 131,  12, 146,  33, 198,  72, 123,\n",
       "        29, 144, 145,  84, 139,  61, 102,  64,   3,  44,  99,  80,  32,\n",
       "        34, 174,  42, 172,  45, 170, 169,  47,  48, 166, 165, 164, 163,\n",
       "       162, 161,  50,  30,  28, 110, 179, 197,   1,   6, 194,  10, 192,\n",
       "        11,  13,  51,  17,  19, 186,  22,  23, 183,  25, 181,  27, 188,\n",
       "        52, 157, 156, 132,  82,  83, 129, 128, 127,  85,  87, 124,  88,\n",
       "        91,  94, 100, 101, 103, 117, 116, 133, 134, 136,  76, 155,  54,\n",
       "       153, 152,  55,  56,  60, 148, 113, 147,  68,  69,  70,  71, 141,\n",
       "       140,  75, 138,  67,   0])"
      ]
     },
     "execution_count": 15,
     "metadata": {},
     "output_type": "execute_result"
    }
   ],
   "source": [
    "pred = model.predict(x_test[0:200])\n",
    "vP = np.argsort(np.var(pred, axis = 1))\n",
    "vP"
   ]
  },
  {
   "cell_type": "code",
   "execution_count": 49,
   "metadata": {},
   "outputs": [],
   "source": [
    "model.save('parameters.h5')"
   ]
  }
 ],
 "metadata": {
  "kernelspec": {
   "display_name": "Python 3",
   "language": "python",
   "name": "python3"
  },
  "language_info": {
   "codemirror_mode": {
    "name": "ipython",
    "version": 3
   },
   "file_extension": ".py",
   "mimetype": "text/x-python",
   "name": "python",
   "nbconvert_exporter": "python",
   "pygments_lexer": "ipython3",
   "version": "3.5.2"
  }
 },
 "nbformat": 4,
 "nbformat_minor": 2
}
