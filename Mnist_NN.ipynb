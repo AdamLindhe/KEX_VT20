{
 "cells": [
  {
   "cell_type": "code",
   "execution_count": 20,
   "metadata": {},
   "outputs": [],
   "source": [
    "import tensorflow as tf\n",
    "import numpy as np\n",
    "import matplotlib.pyplot as plt\n",
    "from tensorflow.keras.layers import Input, Dense, Flatten\n",
    "from tensorflow.keras.models import Model\n",
    "from tensorflow.keras.datasets import mnist\n",
    "from tensorflow.keras.utils import to_categorical"
   ]
  },
  {
   "cell_type": "code",
   "execution_count": 14,
   "metadata": {},
   "outputs": [],
   "source": [
    "(x_train, y_train), (x_test, y_test) = mnist.load_data()\n",
    "x_train = x_train / 255\n",
    "x_test = x_test / 255\n",
    "y_train = to_categorical(y_train)\n",
    "y_test = to_categorical(y_test)"
   ]
  },
  {
   "cell_type": "code",
   "execution_count": 12,
   "metadata": {},
   "outputs": [
    {
     "data": {
      "text/plain": [
       "<matplotlib.image.AxesImage at 0x7fbcf1715a90>"
      ]
     },
     "execution_count": 12,
     "metadata": {},
     "output_type": "execute_result"
    },
    {
     "data": {
      "image/png": "[encoded data removed]",
      "text/plain": [
       "<Figure size 432x288 with 1 Axes>"
      ]
     },
     "metadata": {
      "needs_background": "light"
     },
     "output_type": "display_data"
    }
   ],
   "source": [
    "plt.imshow(x_train[0])"
   ]
  },
  {
   "cell_type": "code",
   "execution_count": 26,
   "metadata": {},
   "outputs": [],
   "source": [
    "inp_lay = Input(shape=(28,28,))\n",
    "flat = Flatten()(inp_lay)\n",
    "dense_1 = Dense(500, activation='relu')(flat)\n",
    "dense_2 = Dense(100, activation='relu')(dense_1)\n",
    "out = Dense(10, activation='softmax')(dense_1)\n",
    "\n",
    "model = Model(inp_lay, out)\n",
    "model.compile(optimizer = 'Adam', loss = 'categorical_crossentropy', metrics = ['accuracy'])"
   ]
  },
  {
   "cell_type": "code",
   "execution_count": 48,
   "metadata": {},
   "outputs": [
    {
     "name": "stdout",
     "output_type": "stream",
     "text": [
      "Model: \"model_5\"\n",
      "_________________________________________________________________\n",
      "Layer (type)                 Output Shape              Param #   \n",
      "=================================================================\n",
      "input_9 (InputLayer)         [(None, 28, 28)]          0         \n",
      "_________________________________________________________________\n",
      "flatten_7 (Flatten)          (None, 784)               0         \n",
      "_________________________________________________________________\n",
      "dense_18 (Dense)             (None, 500)               392500    \n",
      "_________________________________________________________________\n",
      "dense_20 (Dense)             (None, 10)                5010      \n",
      "=================================================================\n",
      "Total params: 397,510\n",
      "Trainable params: 397,510\n",
      "Non-trainable params: 0\n",
      "_________________________________________________________________\n"
     ]
    }
   ],
   "source": [
    "model.summary()"
   ]
  },
  {
   "cell_type": "code",
   "execution_count": 27,
   "metadata": {},
   "outputs": [
    {
     "name": "stdout",
     "output_type": "stream",
     "text": [
      "Train on 60000 samples, validate on 10000 samples\n",
      "Epoch 1/10\n",
      "60000/60000 [==============================] - 16s 259us/sample - loss: 0.2010 - accuracy: 0.9410 - val_loss: 0.0980 - val_accuracy: 0.9684\n",
      "Epoch 2/10\n",
      "60000/60000 [==============================] - 16s 262us/sample - loss: 0.0822 - accuracy: 0.9752 - val_loss: 0.0916 - val_accuracy: 0.9713\n",
      "Epoch 3/10\n",
      "60000/60000 [==============================] - 15s 248us/sample - loss: 0.0529 - accuracy: 0.9831 - val_loss: 0.0683 - val_accuracy: 0.9787\n",
      "Epoch 4/10\n",
      "60000/60000 [==============================] - 15s 256us/sample - loss: 0.0379 - accuracy: 0.9883 - val_loss: 0.0656 - val_accuracy: 0.9798\n",
      "Epoch 5/10\n",
      "60000/60000 [==============================] - 16s 264us/sample - loss: 0.0277 - accuracy: 0.9913 - val_loss: 0.0860 - val_accuracy: 0.9749\n",
      "Epoch 6/10\n",
      "60000/60000 [==============================] - 15s 256us/sample - loss: 0.0204 - accuracy: 0.9930 - val_loss: 0.0761 - val_accuracy: 0.9785\n",
      "Epoch 7/10\n",
      "60000/60000 [==============================] - 16s 272us/sample - loss: 0.0185 - accuracy: 0.9939 - val_loss: 0.0754 - val_accuracy: 0.9793\n",
      "Epoch 8/10\n",
      "60000/60000 [==============================] - 16s 268us/sample - loss: 0.0133 - accuracy: 0.9958 - val_loss: 0.0913 - val_accuracy: 0.9775\n",
      "Epoch 9/10\n",
      "60000/60000 [==============================] - 16s 265us/sample - loss: 0.0142 - accuracy: 0.9950 - val_loss: 0.0883 - val_accuracy: 0.9778\n",
      "Epoch 10/10\n",
      "60000/60000 [==============================] - 16s 273us/sample - loss: 0.0106 - accuracy: 0.9967 - val_loss: 0.0793 - val_accuracy: 0.9819\n"
     ]
    }
   ],
   "source": [
    "his = model.fit(x_train, y_train,batch_size=32, epochs=10, validation_data=(x_test,y_test))"
   ]
  },
  {
   "cell_type": "code",
   "execution_count": 32,
   "metadata": {},
   "outputs": [
    {
     "data": {
      "text/plain": [
       "[<matplotlib.lines.Line2D at 0x7fbc8eb6f110>]"
      ]
     },
     "execution_count": 32,
     "metadata": {},
     "output_type": "execute_result"
    },
    {
     "data": {
      "image/png": "[encoded data removed]",
      "text/plain": [
       "<Figure size 432x288 with 1 Axes>"
      ]
     },
     "metadata": {
      "needs_background": "light"
     },
     "output_type": "display_data"
    }
   ],
   "source": [
    "plt.plot(his.history['loss'])\n",
    "plt.plot(his.history['val_loss'])"
   ]
  },
  {
   "cell_type": "code",
   "execution_count": 33,
   "metadata": {},
   "outputs": [
    {
     "data": {
      "text/plain": [
       "[<matplotlib.lines.Line2D at 0x7fbc8ec5dd50>]"
      ]
     },
     "execution_count": 33,
     "metadata": {},
     "output_type": "execute_result"
    },
    {
     "data": {
      "image/png": "[encoded data removed]",
      "text/plain": [
       "<Figure size 432x288 with 1 Axes>"
      ]
     },
     "metadata": {
      "needs_background": "light"
     },
     "output_type": "display_data"
    }
   ],
   "source": [
    "plt.plot(his.history['accuracy'])\n",
    "plt.plot(his.history['val_accuracy'])"
   ]
  },
  {
   "cell_type": "code",
   "execution_count": 47,
   "metadata": {},
   "outputs": [
    {
     "data": {
      "image/png": "[encoded data removed]",
      "text/plain": [
       "<Figure size 432x288 with 8 Axes>"
      ]
     },
     "metadata": {
      "needs_background": "light"
     },
     "output_type": "display_data"
    }
   ],
   "source": [
    "fig, ax = plt.subplots(nrows=2, ncols=4)\n",
    "count = 0\n",
    "for rows in ax:\n",
    "    for col in rows:\n",
    "        col.imshow(x_test[count])\n",
    "        col.axis('off')\n",
    "        pred = np.argmax(model.predict(x_test[count:count+1]))\n",
    "        col.set_title(pred)\n",
    "        count+=1\n"
   ]
  },
  {
   "cell_type": "code",
   "execution_count": 79,
   "metadata": {},
   "outputs": [
    {
     "data": {
      "image/png": "[encoded data removed]",
      "text/plain": [
       "<Figure size 432x288 with 1 Axes>"
      ]
     },
     "metadata": {
      "needs_background": "light"
     },
     "output_type": "display_data"
    },
    {
     "data": {
      "image/png": "[encoded data removed]",
      "text/plain": [
       "<Figure size 432x288 with 1 Axes>"
      ]
     },
     "metadata": {
      "needs_background": "light"
     },
     "output_type": "display_data"
    }
   ],
   "source": [
    "nr = 18\n",
    "plt.imshow(x_test[nr])\n",
    "plt.title(np.argmax(y_test[nr]))\n",
    "plt.axis('off')\n",
    "pred = model.predict(x_test[nr:nr+1])[0]\n",
    "plt.figure()\n",
    "plt.bar(x = np.arange(0,10,1), height = pred)\n",
    "plt.show()"
   ]
  },
  {
   "cell_type": "code",
   "execution_count": 74,
   "metadata": {},
   "outputs": [
    {
     "data": {
      "text/plain": [
       "array([139, 151,   8,  18, 149, 175, 104,  96, 121, 111,  24, 193, 195,\n",
       "       171,  38, 189,  63,  61, 119,  49, 191,  64,  62, 177, 124,  42,\n",
       "        59,  97,  80,  79,  31, 158, 122,  21,  78, 187,  92, 199,  65,\n",
       "       179, 190, 114, 160,   4, 116, 159,   7,  36, 115,  20,  46, 184,\n",
       "       125,  34, 146,   2, 107, 137,  40,  41, 154,  15,  89,  43,  57,\n",
       "       133,  54,   6,  84,  85,  93, 180,   9,  58, 182,  29,  33, 145,\n",
       "        50, 100,   5, 144, 185, 173,  86,  90,  73,  95,  37, 176, 140,\n",
       "        81, 109, 126,  53,  94,  98,  83, 192, 118, 135, 178, 143, 169,\n",
       "       131,  99,  74,  39,  11,  14,  77,  28, 106, 172,  32, 170,  35,\n",
       "       168, 167, 166, 164, 163, 162, 161,  44,  45, 157, 156, 155, 165,\n",
       "        30,  27,  47, 197, 196,   1, 194,   3,  10,  13, 188, 186,  17,\n",
       "       183,  19, 181,  22,  23,  25,  26, 174, 153, 152,  48, 105, 127,\n",
       "        72,  75, 123,  76, 120,  82, 129,  87,  88,  91, 198, 112, 101,\n",
       "       110, 102, 103, 117, 130, 128, 132, 150,  51, 148, 147,  52,  55,\n",
       "        56,  71, 142,  60, 141,  66,  67, 138,  68, 136,  69, 134,  70,\n",
       "         0,  12, 113, 108,  16])"
      ]
     },
     "execution_count": 74,
     "metadata": {},
     "output_type": "execute_result"
    }
   ],
   "source": [
    "pred = model.predict(x_test[0:200])\n",
    "vP = np.argsort(np.var(pred, axis = 1))\n",
    "vP"
   ]
  },
  {
   "cell_type": "code",
   "execution_count": 49,
   "metadata": {},
   "outputs": [],
   "source": [
    "model.save('parameters.h5')"
   ]
  }
 ],
 "metadata": {
  "kernelspec": {
   "display_name": "Python 3",
   "language": "python",
   "name": "python3"
  },
  "language_info": {
   "codemirror_mode": {
    "name": "ipython",
    "version": 3
   },
   "file_extension": ".py",
   "mimetype": "text/x-python",
   "name": "python",
   "nbconvert_exporter": "python",
   "pygments_lexer": "ipython3",
   "version": "3.7.6"
  }
 },
 "nbformat": 4,
 "nbformat_minor": 2
}
