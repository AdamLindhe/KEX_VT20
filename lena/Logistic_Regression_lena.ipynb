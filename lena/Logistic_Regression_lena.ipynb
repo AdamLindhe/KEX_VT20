{
 "cells": [
  {
   "cell_type": "code",
   "execution_count": 242,
   "metadata": {},
   "outputs": [],
   "source": [
    "import numpy as np\n",
    "import matplotlib.pyplot as plt"
   ]
  },
  {
   "cell_type": "markdown",
   "metadata": {},
   "source": [
    "Vi genererar slumpmässig datapunkter uniformt på $[0,1]^2$"
   ]
  },
  {
   "cell_type": "code",
   "execution_count": 243,
   "metadata": {},
   "outputs": [],
   "source": [
    "np.random.seed(133)\n",
    "N = 30 #number of data points\n",
    "x = np.random.uniform(0,1, size = (N,2))"
   ]
  },
  {
   "cell_type": "markdown",
   "metadata": {},
   "source": [
    "Sedan så definerar vi ett plan (eller en linje eftersom vi är i 2d) så om punkterna ligger ovanför så får de label y = 1 0ch ligger de under får de label y= 0"
   ]
  },
  {
   "cell_type": "markdown",
   "metadata": {},
   "source": [
    "linjens exvation ges av $\\vec{n}\\cdot \\vec{x} = c$ så punkterna får label 1 om \n",
    "$$ \\vec{n}\\cdot \\vec{x} > c $$"
   ]
  },
  {
   "cell_type": "code",
   "execution_count": 244,
   "metadata": {},
   "outputs": [],
   "source": [
    "#n,c are the parameters fo for the hyperplane separating the two sets n*x=c\n",
    "n = np.array([1,2])\n",
    "c = 1.2\n",
    "y = np.zeros((N,)) #labels\n",
    "for i in range(N):\n",
    "    if (np.dot(n,x[i,:])>c):\n",
    "        y[i] = 1"
   ]
  },
  {
   "cell_type": "code",
   "execution_count": 245,
   "metadata": {},
   "outputs": [
    {
     "data": {
      "text/plain": [
       "[<matplotlib.lines.Line2D at 0x7f8675386978>]"
      ]
     },
     "execution_count": 245,
     "metadata": {},
     "output_type": "execute_result"
    },
    {
     "data": {
      "image/png": "[encoded data removed]",
      "text/plain": [
       "<matplotlib.figure.Figure at 0x7f86754480b8>"
      ]
     },
     "metadata": {},
     "output_type": "display_data"
    }
   ],
   "source": [
    "plt.plot(x[y==0,0],x[y==0,1],'r*') #plots all points with albels 0\n",
    "plt.plot(x[y==1,0],x[y==1,1],'bo') #plots all points with labels 1\n",
    "plt.plot([0,c/n[0]],[c/n[1],0]) #plots the separating hyperplane"
   ]
  },
  {
   "cell_type": "markdown",
   "metadata": {},
   "source": [
    "Nu ska vi göre en logistisk regression. Vi har modellen \n",
    "$$f_{\\omega_0,\\omega_1,\\omega_2}(x_1,x_2) = P(Y = 1|x,\\vec{\\omega}) = \\frac{1}{1+e^{-(\\omega_0 + \\omega_1 x_1 + \\omega_2 x_2)}} = \\frac{e^{(\\omega_0 + \\omega_1 x_1 + \\omega_2 x_2)}}{1+e^{(\\omega_0 + \\omega_1 x_1 + \\omega_2 x_2)}}$$\n",
    "Och loss funktionen\n",
    "$$L(f_{\\omega_0,\\omega_1,\\omega_2}(x_1,x_2),y) = -y\\log(f_{\\omega_0,\\omega_1,\\omega_2}(x_1,x_2)) - (1-y)\\log(1-f_{\\omega_0,\\omega_1,\\omega_2}(x_1,x_2))$$\n",
    "Så lossen för all våran data är\n",
    "$$L = -\\sum_{i=0}^N y^i\\log(f_{\\omega_0,\\omega_1,\\omega_2}(x^i_1,x^i_2)) + (1-y^i)\\log(1-f_{\\omega_0,\\omega_1,\\omega_2}(x^i_1,x^i_2))$$\n",
    "Det är den här lossen vi vill minimera med någon metod. Alltså hitta de optimala parametrarna $\\omega_0,\\omega_1,\\omega_2$"
   ]
  },
  {
   "cell_type": "markdown",
   "metadata": {},
   "source": [
    "# First order solutions  \n",
    "\n",
    "## Solution with stochastic gradient descent\n"
   ]
  },
  {
   "cell_type": "markdown",
   "metadata": {},
   "source": [
    "Vår vektor x är en Nx2 vektor, dvs vi har N datapunkter och två features per datapunkt. Vi vill dessutom lägga till en \"bias-neuron\", dvs vi antar att det faktiskt finns tre indata attribut för varje datapunkt, x_1, x_2 och 1. Det innebär att vi behöver tre vikter, en för varje indata attribut. Därför skapar vi en vektor w med tre element. Dessutom behöver vi några parametrar som bestämmer hur algoritmen beter sig"
   ]
  },
  {
   "cell_type": "code",
   "execution_count": 246,
   "metadata": {},
   "outputs": [],
   "source": [
    "w = np.zeros((3, ))\n",
    "epochs = 50\n",
    "L_list = np.zeros((epochs,))  # save loss development\n",
    "alfa = 1                      # learning rate"
   ]
  },
  {
   "cell_type": "markdown",
   "metadata": {},
   "source": [
    "Logistisk funktion och loss funktion som ovan"
   ]
  },
  {
   "cell_type": "code",
   "execution_count": 311,
   "metadata": {},
   "outputs": [],
   "source": [
    "## all functions take \"scalar\" indata\n",
    "\n",
    "\n",
    "# activation function => logistic function\n",
    "def sigmoid(x, w):\n",
    "    a = w[0] + w[1]*x[0]  + w[2]*x[1]     # use vector mul. later\n",
    "    return 1.0/(1.0 + np.exp(-a))\n",
    "    \n",
    "def loss(y, f):\n",
    "    #return -y*np.log(f) - (1-y)*np.log(1 - f)   # since y in {0, 1}, one of the two parts vanishes each time \n",
    "    if y == 1:\n",
    "        return - np.log(f)\n",
    "    else:\n",
    "        return - np.log(1-f)\n",
    "    "
   ]
  },
  {
   "cell_type": "markdown",
   "metadata": {},
   "source": [
    "Vi behöver dessutom gradienten av loss funktionen med avseende på vikterna, \n",
    "$ \\frac{\\partial L}{\\partial w_i} $. För att ta fram det använder vi kedjeregeln: det är lätt att bestämma derivatan av loss funktionen med avseende på $f$,  $\\frac{\\partial L}{\\partial f}$, eftersom $f$ är \"direkt\" indata till $L$. På samma sätt kan vi enkelt bestämma $\\frac{partial f}{\\partial a}$ (derivatan av activation function med avseende på pre activation värdet) och derivatan av $a$ med avseende på $w_i$. Totalt får vi\n",
    "$$ \\frac{\\partial L}{\\partial w_i} = \\frac{\\partial L}{\\partial f} \\frac{\\partial f}{\\partial a} \\frac{\\partial a}{\\partial w_i}$$"
   ]
  },
  {
   "cell_type": "code",
   "execution_count": 314,
   "metadata": {},
   "outputs": [],
   "source": [
    "def loss_gradient(y, f, x, w):\n",
    "    a = w[0] + w[1]*x[0]  + w[2]*x[1] # som ovan -> väldigt ineffektiv att ta fram två gånger, bara för tydlighet\n",
    "    #dL_df = -y/f + (1-y)/(1-f)\n",
    "    if y == 1:\n",
    "        dL_df = -1./f\n",
    "    else:\n",
    "        dL_df = 1./(1-f)\n",
    "    \n",
    "    df_da = np.exp(-a)/(1 + np.exp(-a))**2\n",
    "    da_dw = np.array([1, x[0], x[1]])\n",
    "    dL_dw = dL_df*df_da*da_dw\n",
    "    return dL_dw\n",
    "    \n",
    " \n",
    "'''\n",
    "def loss_gradient(y, f, x, w):\n",
    "    a = w[0] + w[1]*x[0]  + w[2]*x[1] \n",
    "    dL_dw = np.array([1, x[0], x[1]])/(1 + np.exp(-a))    \n",
    "    if y == 1:\n",
    "        dL_dw *= -np.exp(-a)\n",
    "    return dL_dw\n",
    "'''    "
   ]
  },
  {
   "cell_type": "markdown",
   "metadata": {},
   "source": [
    "För logistisk regression går det också att bestämma $\\frac{dL}{dw}$ \"direkt\",\n",
    "$$\\frac{dL}{dw} = -y*(1 - \\sigma(W\\cdot X))*X + (1-y)*\\sigma(W\\cdot X)*X $$\n",
    "där X = [1, x], dvs\n",
    "\n",
    "$$ \\frac{dL}{dw} = \\begin{cases}\n",
    "\\frac{- exp(-w \\cdot X) X }{1 + exp(- w \\cdot X)} & y = 1 \\\\\n",
    "\\frac{X }{1 + exp(- w \\cdot X)} & y = 0 \\\\\n",
    "\\end{cases}\n",
    "$$"
   ]
  },
  {
   "cell_type": "code",
   "execution_count": 315,
   "metadata": {},
   "outputs": [
    {
     "data": {
      "text/plain": [
       "[<matplotlib.lines.Line2D at 0x7f86747d7a20>]"
      ]
     },
     "execution_count": 315,
     "metadata": {},
     "output_type": "execute_result"
    },
    {
     "data": {
      "image/png": "[encoded data removed]",
      "text/plain": [
       "<matplotlib.figure.Figure at 0x7f86747a5d30>"
      ]
     },
     "metadata": {},
     "output_type": "display_data"
    }
   ],
   "source": [
    "w = np.zeros((3, ))\n",
    "epochs = 50\n",
    "L_list = np.zeros((epochs,))  # save loss development\n",
    "alfa = 1                      # learning rate\n",
    "\n",
    "# stochastic gradient descent\n",
    "for i in range(epochs):\n",
    "    for j in range(N):\n",
    "        # choose one data point\n",
    "        ind = np.random.choice(N)\n",
    "        x_ind = x[ind, :]\n",
    "        y_ind = y[ind]\n",
    "    \n",
    "        f = sigmoid(x_ind, w)\n",
    "        dL_dw = loss_gradient(y_ind, f, x_ind, w)\n",
    "\n",
    "        w = w - alfa*dL_dw\n",
    "    \n",
    "    # every N iterations: check loss function value\n",
    "    L_tot = 0\n",
    "        \n",
    "    # add upp values for all x_i    \n",
    "    for j in range(N):\n",
    "        x_ind = x[j, :]\n",
    "        y_ind = y[j]\n",
    "        \n",
    "        f = sigmoid(x_ind, w)\n",
    "        L_tot += loss(y_ind, f)\n",
    "            \n",
    "    L_list[i] = L_tot\n",
    "                \n",
    "plt.plot(L_list)"
   ]
  },
  {
   "cell_type": "code",
   "execution_count": 250,
   "metadata": {},
   "outputs": [
    {
     "data": {
      "text/plain": [
       "array([13.89820243,  9.22990022,  8.16290006,  7.27276807,  6.71019172,\n",
       "        6.31613523,  5.75036901,  5.43634243,  5.62490514,  4.96280184,\n",
       "        5.06995275,  4.99728111,  4.82302968,  4.31827011,  4.4763475 ,\n",
       "        4.88920155,  4.094057  ,  4.3135432 ,  4.41476223,  3.77820134,\n",
       "        4.12169168,  3.71785167,  3.63616062,  4.3637283 ,  4.48095552,\n",
       "        3.49274424,  3.74208398,  3.67425491,  3.44224701,  3.27630494,\n",
       "        3.3852308 ,  3.180979  ,  3.497174  ,  3.09779444,  3.34174839,\n",
       "        3.39721192,  2.97890341,  3.77447331,  3.19007693,  3.58378788,\n",
       "        3.58242228,  3.5944531 ,  2.82111347,  2.7935789 ,  2.87902258,\n",
       "        2.73517625,  2.71034936,  2.79164318,  2.79681204,  2.90531299])"
      ]
     },
     "execution_count": 250,
     "metadata": {},
     "output_type": "execute_result"
    }
   ],
   "source": [
    "L_list"
   ]
  },
  {
   "cell_type": "code",
   "execution_count": 251,
   "metadata": {},
   "outputs": [
    {
     "data": {
      "text/plain": [
       "[<matplotlib.lines.Line2D at 0x7f867525c470>]"
      ]
     },
     "execution_count": 251,
     "metadata": {},
     "output_type": "execute_result"
    },
    {
     "data": {
      "image/png": "[encoded data removed]",
      "text/plain": [
       "<matplotlib.figure.Figure at 0x7f8675344470>"
      ]
     },
     "metadata": {},
     "output_type": "display_data"
    }
   ],
   "source": [
    "plt.plot(x[y==0,0],x[y==0,1],'r*') #plots all points with albels 0\n",
    "plt.plot(x[y==1,0],x[y==1,1],'bo') #plots all points with labels 1\n",
    "plt.plot([0,c/n[0]],[c/n[1],0]) #plots the separating hyperplane\n",
    "plt.plot([0,-w[0]/w[1]],[-w[0]/w[2],0],'r')"
   ]
  },
  {
   "cell_type": "markdown",
   "metadata": {},
   "source": [
    "### Solution with more vector notation"
   ]
  },
  {
   "cell_type": "code",
   "execution_count": 365,
   "metadata": {},
   "outputs": [],
   "source": [
    "# activation function => logistic function\n",
    "def sigmoid(X, w):\n",
    "    a = np.dot(X, w)\n",
    "    f = 1.0/(1.0 + np.exp(-a))\n",
    "    df_da = np.exp(-a)/(1 + np.exp(-a))**2\n",
    "    return f, df_da\n",
    "    \n",
    "def loss(y, f):\n",
    "    L = -np.dot(y, np.log(f)) - np.dot((1-y), np.log(1 - f))   # since y in {0, 1}, one of the two parts vanishes each time \n",
    "    return L\n",
    "\n",
    "def loss_grad(y, f):\n",
    "    dL_df = -y/f + (1-y)/(1-f)    \n",
    "    #if y == 1:\n",
    "    #    dL_df = -1./f\n",
    "    #else:\n",
    "    #    dL_df = 1./(1-f)\n",
    "    return dL_df"
   ]
  },
  {
   "cell_type": "code",
   "execution_count": 366,
   "metadata": {},
   "outputs": [
    {
     "data": {
      "text/plain": [
       "[<matplotlib.lines.Line2D at 0x7f86743d2048>]"
      ]
     },
     "execution_count": 366,
     "metadata": {},
     "output_type": "execute_result"
    },
    {
     "data": {
      "image/png": "[encoded data removed]",
      "text/plain": [
       "<matplotlib.figure.Figure at 0x7f86743a7f60>"
      ]
     },
     "metadata": {},
     "output_type": "display_data"
    }
   ],
   "source": [
    "w = np.zeros((3, ))\n",
    "epochs = 50\n",
    "L_list = np.zeros((epochs,))  # save loss development\n",
    "alfa = 1                      # learning rate\n",
    "\n",
    "# stochastic gradient descent\n",
    "for i in range(epochs):\n",
    "    for j in range(N):\n",
    "        # choose one data point\n",
    "        ind = np.random.choice(N)\n",
    "        X_ind = np.array([1, *x[ind, :]])\n",
    "        y_ind = y[ind]\n",
    "    \n",
    "        (f, df_da) = sigmoid(X_ind, w)\n",
    "        dL_df = loss_grad(y_ind, f)\n",
    "        dL_dw = dL_df*df_da*X_ind\n",
    "\n",
    "        w = w - alfa*dL_dw\n",
    "    \n",
    "    # every N iterations: check loss function value\n",
    "    L_tot = 0\n",
    "        \n",
    "    # add upp values for all x_i    \n",
    "    for j in range(N):\n",
    "        X_ind = np.array([1, *x[j, :]])\n",
    "        y_ind = y[j]\n",
    "        \n",
    "        f, df_da = sigmoid(X_ind, w)\n",
    "        L_tot += loss(y_ind, f)\n",
    "            \n",
    "    L_list[i] = L_tot\n",
    "                \n",
    "plt.plot(L_list)"
   ]
  },
  {
   "cell_type": "code",
   "execution_count": 254,
   "metadata": {},
   "outputs": [
    {
     "data": {
      "text/plain": [
       "array([-9.79206117,  6.94799692, 15.5324664 ])"
      ]
     },
     "execution_count": 254,
     "metadata": {},
     "output_type": "execute_result"
    }
   ],
   "source": [
    "w"
   ]
  },
  {
   "cell_type": "code",
   "execution_count": 266,
   "metadata": {},
   "outputs": [
    {
     "data": {
      "text/plain": [
       "[<matplotlib.lines.Line2D at 0x7f8674e17be0>]"
      ]
     },
     "execution_count": 266,
     "metadata": {},
     "output_type": "execute_result"
    },
    {
     "data": {
      "image/png": "[encoded data removed]",
      "text/plain": [
       "<matplotlib.figure.Figure at 0x7f8674e7ac88>"
      ]
     },
     "metadata": {},
     "output_type": "display_data"
    }
   ],
   "source": [
    "plt.plot(x[y==0,0],x[y==0,1],'r*') #plots all points with albels 0\n",
    "plt.plot(x[y==1,0],x[y==1,1],'bo') #plots all points with labels 1\n",
    "plt.plot([0,c/n[0]],[c/n[1],0]) #plots the separating hyperplane\n",
    "plt.plot([0,-w[0]/w[1]],[-w[0]/w[2],0],'r')"
   ]
  },
  {
   "cell_type": "code",
   "execution_count": null,
   "metadata": {},
   "outputs": [],
   "source": []
  },
  {
   "cell_type": "markdown",
   "metadata": {},
   "source": [
    "## Solution with gradient descent"
   ]
  },
  {
   "cell_type": "code",
   "execution_count": 267,
   "metadata": {},
   "outputs": [],
   "source": [
    "# activation function => logistic function\n",
    "def sigmoid(X, W):\n",
    "    a = np.dot(X, W.T)\n",
    "    f = 1.0/(1.0 + np.exp(-a))\n",
    "    df_da = np.exp(-a)/(1 + np.exp(-a))**2\n",
    "    return f, df_da\n",
    "    \n",
    "def loss(y, f):\n",
    "    L = -np.dot(y, np.log(f)) - np.dot((1-y), np.log(1 - f))   # since y in {0, 1}, one of the two parts vanishes each time \n",
    "    return L\n",
    "\n",
    "def loss_grad(y, f):\n",
    "    dL_df = -y/f + (1-y)/(1-f)    \n",
    "    #if y == 1:\n",
    "    #    dL_df = -1./f\n",
    "    #else:\n",
    "    #    dL_df = 1./(1-f)\n",
    "    return dL_df"
   ]
  },
  {
   "cell_type": "code",
   "execution_count": 400,
   "metadata": {},
   "outputs": [
    {
     "data": {
      "text/plain": [
       "[<matplotlib.lines.Line2D at 0x7f86726a5630>]"
      ]
     },
     "execution_count": 400,
     "metadata": {},
     "output_type": "execute_result"
    },
    {
     "data": {
      "image/png": "[encoded data removed]",
      "text/plain": [
       "<matplotlib.figure.Figure at 0x7f8672795828>"
      ]
     },
     "metadata": {},
     "output_type": "display_data"
    }
   ],
   "source": [
    "W = np.random.rand(3, )\n",
    "epochs = 50\n",
    "L_list = np.zeros((epochs,))  # save loss development\n",
    "alfa = 1                    # learning rate\n",
    "\n",
    "X = np.ones((N, 3))\n",
    "X[:, 1:] = x\n",
    "\n",
    "# gradient descent\n",
    "for i in range(epochs):\n",
    "    \n",
    "    (f, df_da) = sigmoid(X, W)\n",
    "    dL_df = loss_grad(y, f)\n",
    "\n",
    "    dL_da = np.multiply(dL_df, df_da)\n",
    "    dL_dw = np.dot(dL_da.T, X)\n",
    "\n",
    "    W = W - alfa*dL_dw\n",
    "    \n",
    "    # check value of loss function\n",
    "    L_list[i] = loss(y, f)\n",
    "\n",
    "                \n",
    "plt.plot(L_list)\n"
   ]
  },
  {
   "cell_type": "code",
   "execution_count": null,
   "metadata": {},
   "outputs": [],
   "source": []
  }
 ],
 "metadata": {
  "kernelspec": {
   "display_name": "Python 3",
   "language": "python",
   "name": "python3"
  },
  "language_info": {
   "codemirror_mode": {
    "name": "ipython",
    "version": 3
   },
   "file_extension": ".py",
   "mimetype": "text/x-python",
   "name": "python",
   "nbconvert_exporter": "python",
   "pygments_lexer": "ipython3",
   "version": "3.6.9"
  }
 },
 "nbformat": 4,
 "nbformat_minor": 4
}
