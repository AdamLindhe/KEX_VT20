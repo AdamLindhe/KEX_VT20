{
 "cells": [
  {
   "cell_type": "code",
   "execution_count": 1,
   "metadata": {},
   "outputs": [],
   "source": [
    "import numpy as np\n",
    "import matplotlib.pyplot as plt"
   ]
  },
  {
   "cell_type": "markdown",
   "metadata": {},
   "source": [
    "Vi genererar slumpmässig datapunkter uniformt på $[0,1]^2$"
   ]
  },
  {
   "cell_type": "code",
   "execution_count": 2,
   "metadata": {},
   "outputs": [],
   "source": [
    "np.random.seed(133)\n",
    "N = 20 #number of data points\n",
    "x = np.random.uniform(0,1, size = (N,2))"
   ]
  },
  {
   "cell_type": "markdown",
   "metadata": {},
   "source": [
    "Sedan så definerar vi ett plan (eller en linje eftersom vi är i 2d) så om punkterna ligger ovanför så får de label y = 1 0ch ligger de under får de label y= 0"
   ]
  },
  {
   "cell_type": "markdown",
   "metadata": {},
   "source": [
    "linjens exvation ges av $\\vec{n}\\cdot \\vec{x} = c$ så punkterna får label 1 om \n",
    "$$ \\vec{n}\\cdot \\vec{x} > c $$"
   ]
  },
  {
   "cell_type": "code",
   "execution_count": 3,
   "metadata": {},
   "outputs": [],
   "source": [
    "#n,c are the parameters fo for the hyperplane separating the two sets n*x=c\n",
    "n = np.array([1,2])\n",
    "c = 1.2\n",
    "y = np.zeros((N,)) #labels\n",
    "for i in range(N):\n",
    "    if (np.dot(n,x[i,:])>c):\n",
    "        y[i] = 1"
   ]
  },
  {
   "cell_type": "code",
   "execution_count": 4,
   "metadata": {},
   "outputs": [
    {
     "data": {
      "text/plain": [
       "[<matplotlib.lines.Line2D at 0x7f8676efb438>]"
      ]
     },
     "execution_count": 4,
     "metadata": {},
     "output_type": "execute_result"
    },
    {
     "data": {
      "image/png": "[encoded data removed]",
      "text/plain": [
       "<matplotlib.figure.Figure at 0x7f8678f20630>"
      ]
     },
     "metadata": {},
     "output_type": "display_data"
    }
   ],
   "source": [
    "plt.plot(x[y==0,0],x[y==0,1],'r*') #plots all points with albels 0\n",
    "plt.plot(x[y==1,0],x[y==1,1],'bo') #plots all points with labels 1\n",
    "plt.plot([0,c/n[0]],[c/n[1],0]) #plots the separating hyperplane"
   ]
  },
  {
   "cell_type": "markdown",
   "metadata": {},
   "source": [
    "Nu ska vi göre en logistisk regression. Vi har modellen \n",
    "$$f_{\\omega_0,\\omega_1,\\omega_2}(x_1,x_2) = P(Y = 1|x,\\vec{\\omega}) = \\frac{1}{1+e^{-(\\omega_0 + \\omega_1 x_1 + \\omega_2 x_2)}} = \\frac{e^{(\\omega_0 + \\omega_1 x_1 + \\omega_2 x_2)}}{1+e^{(\\omega_0 + \\omega_1 x_1 + \\omega_2 x_2)}}$$\n",
    "Och loss funktionen\n",
    "$$L(f_{\\omega_0,\\omega_1,\\omega_2}(x_1,x_2),y) = -y\\log(f_{\\omega_0,\\omega_1,\\omega_2}(x_1,x_2)) - (1-y)\\log(1-f_{\\omega_0,\\omega_1,\\omega_2}(x_1,x_2))$$\n",
    "Så lossen för all våran data är\n",
    "$$L = -\\sum_{i=0}^N y^i\\log(f_{\\omega_0,\\omega_1,\\omega_2}(x^i_1,x^i_2)) + (1-y^i)\\log(1-f_{\\omega_0,\\omega_1,\\omega_2}(x^i_1,x^i_2))$$\n",
    "Det är den här lossen vi vill minimera med någon metod. Alltså hitta de optimala parametrarna $\\omega_0,\\omega_1,\\omega_2$"
   ]
  },
  {
   "cell_type": "code",
   "execution_count": null,
   "metadata": {},
   "outputs": [],
   "source": []
  },
  {
   "cell_type": "markdown",
   "metadata": {},
   "source": [
    "Vår vektor x är en Nx2 vektor, dvs vi har N datapunkter och två features per datapunkt. Vi vill dessutom lägga till en \"bias-neuron\", dvs vi antar att det faktiskt finns tre indata attribut för varje datapunkt, x_1, x_2 och 1. Det innebär att vi behöver tre vikter, en för varje indata attribut. Därför skapar vi en vektor w med tre element. Dessutom behöver vi några parametrar som bestämmer hur algoritmen beter sig"
   ]
  },
  {
   "cell_type": "code",
   "execution_count": 33,
   "metadata": {},
   "outputs": [],
   "source": [
    "w = np.zeros((3, ))\n",
    "epochs = 50\n",
    "L_list = np.zeros((epochs,))  # save loss development\n",
    "alfa = 1                      # learning rate"
   ]
  },
  {
   "cell_type": "markdown",
   "metadata": {},
   "source": [
    "Logistisk funktion och loss funktion som ovan"
   ]
  },
  {
   "cell_type": "code",
   "execution_count": 44,
   "metadata": {},
   "outputs": [],
   "source": [
    "## all functions take \"scalar\" indata\n",
    "\n",
    "\n",
    "# activation function => logistic function\n",
    "def sigmoid(x, w):\n",
    "    a = w[0] + w[1]*x[0]  + w[2]*x[1]     # use vector mul. later\n",
    "    return 1.0/(1.0 + np.exp(-a))\n",
    "    \n",
    "def loss(y, f):\n",
    "    #return -y*np.log(f) - (1-y)*np.log(1 - f)   # since y in {0, 1}, one of the two parts vanishes each time \n",
    "    if y == 1:\n",
    "        return - np.log(f)\n",
    "    else:\n",
    "        return - np.log(1-f)\n",
    "    "
   ]
  },
  {
   "cell_type": "markdown",
   "metadata": {},
   "source": [
    "Vi behöver dessutom gradienten av loss funktionen med avseende på vikterna, \n",
    "$ \\frac{\\partial L}{\\partial w_i} $. För att ta fram det använder vi kedjeregeln: det är lätt att bestämma derivatan av loss funktionen med avseende på $f$,  $\\frac{\\partial L}{\\partial f}$, eftersom $f$ är \"direkt\" indata till $L$. På samma sätt kan vi enkelt bestämma $\\frac{partial f}{\\partial a}$ (derivatan av activation function med avseende på pre activation värdet) och derivatan av $a$ med avseende på $w_i$. Totalt får vi\n",
    "$$ \\frac{\\partial L}{\\partial w_i} = \\frac{\\partial L}{\\partial f} \\frac{\\partial f}{\\partial a} \\frac{\\partial a}{\\partial w_i}$$"
   ]
  },
  {
   "cell_type": "code",
   "execution_count": 57,
   "metadata": {},
   "outputs": [],
   "source": [
    "def loss_gradient(y, f, x, w):\n",
    "    a = w[0] + w[1]*x[0]  + w[2]*x[1] # som ovan -> väldigt ineffektiv att ta fram två gånger, bara för tydlighet\n",
    "    #dL_df = -y/f + (1-y)/(1-f)\n",
    "    if y == 1:\n",
    "        dL_df = -1./f\n",
    "    else:\n",
    "        dL_df = 1./(1-f)\n",
    "    \n",
    "    df_da = np.exp(-a)/(1 + np.exp(-a))**2\n",
    "    da_dw = np.array([1, x[0], x[1]])\n",
    "    dL_dw = dL_df*df_da*da_dw\n",
    "    return dL_dw\n",
    "    "
   ]
  },
  {
   "cell_type": "markdown",
   "metadata": {},
   "source": [
    "För logistisk regression går det också att bestämma $\\frac{dL}{dw}$ \"direkt\",\n",
    "$$\\frac{dL}{dw} = \\frac{y X}{1 + exp(y w \\cdot X)} $$\n",
    "där X = [1, x]\n"
   ]
  },
  {
   "cell_type": "code",
   "execution_count": 68,
   "metadata": {},
   "outputs": [
    {
     "data": {
      "text/plain": [
       "[<matplotlib.lines.Line2D at 0x7f8676cf9208>]"
      ]
     },
     "execution_count": 68,
     "metadata": {},
     "output_type": "execute_result"
    },
    {
     "data": {
      "image/png": "[encoded data removed]",
      "text/plain": [
       "<matplotlib.figure.Figure at 0x7f8676d80c50>"
      ]
     },
     "metadata": {},
     "output_type": "display_data"
    }
   ],
   "source": [
    "w = np.zeros((3, ))\n",
    "epochs = 50\n",
    "L_list = np.zeros((epochs,))  # save loss development\n",
    "alfa = 1                      # learning rate\n",
    "\n",
    "# stochastic gradient descent\n",
    "for i in range(epochs):\n",
    "    for j in range(N):\n",
    "        # choose one data point\n",
    "        ind = np.random.choice(N)\n",
    "        x_ind = x[ind, :]\n",
    "        y_ind = y[ind]\n",
    "    \n",
    "        f = sigmoid(x_ind, w)\n",
    "        dL_dw = loss_gradient(y_ind, f, x_ind, w)\n",
    "\n",
    "        w = w - alfa*dL_dw\n",
    "    \n",
    "    # every N iterations: check loss function value\n",
    "    L_tot = 0\n",
    "        \n",
    "    # add upp values for all x_i    \n",
    "    for j in range(N):\n",
    "        x_ind = x[j, :]\n",
    "        y_ind = y[j]\n",
    "        \n",
    "        f = sigmoid(x_ind, w)\n",
    "        L_tot += loss(y_ind, f)\n",
    "            \n",
    "    L_list[i] = L_tot\n",
    "                \n",
    "plt.plot(L_list)"
   ]
  },
  {
   "cell_type": "code",
   "execution_count": 69,
   "metadata": {},
   "outputs": [
    {
     "data": {
      "text/plain": [
       "array([10.50724175,  9.74503033,  7.57945719,  5.7993421 ,  5.12627282,\n",
       "        4.51065629,  3.98258928,  3.55487323,  3.29980926,  3.04525349,\n",
       "        3.04207111,  2.75112689,  2.57526311,  2.45353807,  2.40798625,\n",
       "        2.61466572,  2.11553455,  2.0884616 ,  1.99023627,  1.88944355,\n",
       "        1.98194976,  1.79256437,  1.79737339,  1.81744645,  1.68777731,\n",
       "        1.63302978,  1.57927072,  1.5609157 ,  1.57994202,  1.58092981,\n",
       "        1.47572269,  1.50273371,  1.42374283,  1.59078688,  1.49680826,\n",
       "        1.33981571,  1.30371131,  1.29824536,  1.27024634,  1.26013155,\n",
       "        1.27199616,  1.22741322,  1.21847333,  1.19651601,  1.18512089,\n",
       "        1.38382054,  1.2430211 ,  1.13785237,  1.16180464,  1.08682357])"
      ]
     },
     "execution_count": 69,
     "metadata": {},
     "output_type": "execute_result"
    }
   ],
   "source": [
    "L_list"
   ]
  },
  {
   "cell_type": "markdown",
   "metadata": {},
   "source": [
    "## (Statistisk överkurs)\n",
    "Om man undrar var lossen kommer ifrån så kan man ur ett statistiskt perspektiv se det såhär. Vi modelerar $y|x \\sim Ber(f_{\\omega_0,\\omega_1,\\omega_2}(x_1,x_2))$. Då blir Likelihooden för vår data\n",
    "$$P(y^1,y^2\\cdots,y^N|x^1,x^2\\cdots x^N) = \\prod_{i=1}^NP(y^i|x^i) = \\prod_{i=1} (f_{\\omega_0,\\omega_1,\\omega_2}(x_1,x_2))^{y_i}(1-f_{\\omega_0,\\omega_1,\\omega_2}(x_1,x_2))^{1-y_1}$$\n",
    "För att sannoliketsfunktionen till en $Ber(\\theta)$ variabl kan skrivas som $p_Y(y) = \\theta^y(1-\\theta)^{1-y}$. Att maximera likelihooden är samma sak som att minimera negativ logaritmen av likelihoode. Det är det vi gör ovan. Så att minimera lossen (Som i maskininlärningsvärlden kalla cross-entropy) är helt enkelt att hitta ML-skattningen av $\\vec{\\omega}$"
   ]
  }
 ],
 "metadata": {
  "kernelspec": {
   "display_name": "Python 3",
   "language": "python",
   "name": "python3"
  },
  "language_info": {
   "codemirror_mode": {
    "name": "ipython",
    "version": 3
   },
   "file_extension": ".py",
   "mimetype": "text/x-python",
   "name": "python",
   "nbconvert_exporter": "python",
   "pygments_lexer": "ipython3",
   "version": "3.5.2"
  }
 },
 "nbformat": 4,
 "nbformat_minor": 4
}
