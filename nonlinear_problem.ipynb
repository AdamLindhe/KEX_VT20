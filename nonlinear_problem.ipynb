{
 "cells": [
  {
   "cell_type": "code",
   "execution_count": 1,
   "metadata": {},
   "outputs": [],
   "source": [
    "import numpy as np\n",
    "import matplotlib.pyplot as plt"
   ]
  },
  {
   "cell_type": "markdown",
   "metadata": {},
   "source": [
    "Vi genererar slumpmässig datapunkter uniformt på $[0,1]^2$"
   ]
  },
  {
   "cell_type": "code",
   "execution_count": 2,
   "metadata": {},
   "outputs": [],
   "source": [
    "np.random.seed(133)\n",
    "N = 100 #number of data points\n",
    "x = np.random.uniform(0,1, size = (2,N))"
   ]
  },
  {
   "cell_type": "markdown",
   "metadata": {},
   "source": [
    "Sedan deffinerar vi en cirkel och klassifierar punkter innanför och utanför cirkeln."
   ]
  },
  {
   "cell_type": "markdown",
   "metadata": {},
   "source": [
    "Cirkeln exvation ges av $(x_1-c_1)^2 + (x_2 - c_2)^2= r^2$ så punkterna får label 1 om \n",
    "$$(x_1-c_1)^2 + (x_2 - c_2)^2 > r^2 $$"
   ]
  },
  {
   "cell_type": "code",
   "execution_count": 3,
   "metadata": {},
   "outputs": [],
   "source": [
    "#n,c are the parameters fo for the hyperplane separating the two sets n*x=c\n",
    "c_1 = 0.5\n",
    "c_2 = 0.5\n",
    "r = 0.4\n",
    "y = np.zeros((N,)) #labels\n",
    "for i in range(N):\n",
    "    if ((x[0,i]-c_1)**2 + (x[1,i]-c_2)**2>r**2):\n",
    "        y[i] = 1"
   ]
  },
  {
   "cell_type": "code",
   "execution_count": 4,
   "metadata": {},
   "outputs": [
    {
     "data": {
      "text/plain": [
       "[<matplotlib.lines.Line2D at 0x7f632dc94438>]"
      ]
     },
     "execution_count": 4,
     "metadata": {},
     "output_type": "execute_result"
    },
    {
     "data": {
      "image/png": "[encoded data removed]",
      "text/plain": [
       "<Figure size 432x288 with 1 Axes>"
      ]
     },
     "metadata": {
      "needs_background": "light"
     },
     "output_type": "display_data"
    }
   ],
   "source": [
    "plt.plot(x[0,y==0],x[1,y==0],'r*') #plots all points with albels 0\n",
    "plt.plot(x[0,y==1],x[1,y==1],'bo') #plots all points with labels 1 #plots the separating hyperplane\n",
    "theta = np.linspace(0,2*np.math.pi)\n",
    "x_c = c_1+ r*np.cos(theta)\n",
    "y_c = c_2 + r*np.sin(theta)\n",
    "plt.plot(x_c,y_c) #plot the circle"
   ]
  },
  {
   "cell_type": "markdown",
   "metadata": {},
   "source": [
    "Punkterna ska nu klassifieras med ett neuralt nätverk med ett gömt lager. Input är två dimensionell och multipliceras med en $n_1\\times 2$ dimensionell matris $W_1$, adderas med en $n_1$ dimensionell vektor $b_1$ och körs genom en icke-linjär aktiverings funktion $\\sigma_1$. Det ger värdena i det gömda lagret $h_1$.\n",
    "$$h_1 = \\sigma_1(W_1x+b)$$\n",
    "Denna output multipliceras sedan med en $1\\times n_1$ dimensionell vektor $W_2$, adderas med skalären $b_2$ och körs genom en logistisk funktion $\\sigma_2$\n",
    "$$f = \\sigma_2(W_2h_1 + b_2)$$"
   ]
  },
  {
   "cell_type": "markdown",
   "metadata": {},
   "source": [
    "Nedan är ett exempel på ett lätt neuralt nätverk med tanh som aktiveringsfunktion i hidden layer. Notera att den returnerar mer än bara funktionsvärdet f. De andra värdena kan vara bra att ha när man beräknar gradienten. "
   ]
  },
  {
   "cell_type": "code",
   "execution_count": 5,
   "metadata": {},
   "outputs": [],
   "source": [
    "def f_nn(W_1,W_2, b_1,b_2,x,batch_size):\n",
    "    a_1 = np.matmul(W_1,x.reshape((2,batch_size))) + b_1 #Gör beräkningen W_1x + b. Reshapar så att dimensionerna i matrismultiplikationerna blir rätt\n",
    "    h_1 = np.tanh(a_1) #räknar ut värdena i hidden layer genom att ta akteveringsfunktionen på tidigare uträknat.\n",
    "    a_2 = np.matmul(W_2,h_1) + b_2 #Räknar ut W_2h_1 + b_2\n",
    "    f = 1/(1+np.exp(-a_2))  #räknar ut outputen, som är en sigmoid funktion.\n",
    "    return (f,a_1,h_1,a_2) #Kan vara bra att returnera mer än bara funktionsvärdet för att underlätta uträckningarna i backpropagation"
   ]
  },
  {
   "cell_type": "markdown",
   "metadata": {},
   "source": [
    "Vi initierar vikterna slumpvis, tar bredden 4 i hidden layer."
   ]
  },
  {
   "cell_type": "code",
   "execution_count": 6,
   "metadata": {},
   "outputs": [],
   "source": [
    "n_1 = 4\n",
    "W_1 = np.random.normal(size= (n_1,2))\n",
    "W_2 = np.random.normal(size = (1,n_1))\n",
    "b_1 = np.random.normal(size= (n_1,1))\n",
    "b_2 = np.random.normal(size = (1,1))"
   ]
  },
  {
   "cell_type": "markdown",
   "metadata": {},
   "source": [
    "Nu är det bara att träna vikterna i NN med gradient descent. Klarar den inte av att klassifiera punkterna så testa att göra bredden i det gömda lagret större"
   ]
  }
 ],
 "metadata": {
  "kernelspec": {
   "display_name": "Python 3",
   "language": "python",
   "name": "python3"
  },
  "language_info": {
   "codemirror_mode": {
    "name": "ipython",
    "version": 3
   },
   "file_extension": ".py",
   "mimetype": "text/x-python",
   "name": "python",
   "nbconvert_exporter": "python",
   "pygments_lexer": "ipython3",
   "version": "3.6.8"
  }
 },
 "nbformat": 4,
 "nbformat_minor": 4
}
