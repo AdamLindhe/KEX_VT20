{
 "cells": [
  {
   "cell_type": "code",
   "execution_count": 1,
   "metadata": {},
   "outputs": [],
   "source": [
    "import numpy as np\n",
    "import matplotlib.pyplot as plt"
   ]
  },
  {
   "cell_type": "markdown",
   "metadata": {},
   "source": [
    "Vi genererar slumpmässig datapunkter uniformt på $[0,1]^2$"
   ]
  },
  {
   "cell_type": "code",
   "execution_count": 367,
   "metadata": {},
   "outputs": [],
   "source": [
    "np.random.seed(133)\n",
    "N = 100 #number of data points\n",
    "x = np.random.uniform(0,1, size = (2,N))"
   ]
  },
  {
   "cell_type": "markdown",
   "metadata": {},
   "source": [
    "Sedan deffinerar vi en cirkel och klassifierar punkter innanför och utanför cirkeln."
   ]
  },
  {
   "cell_type": "markdown",
   "metadata": {},
   "source": [
    "Cirkeln exvation ges av $(x_1-c_1)^2 + (x_2 - c_2)^2= r^2$ så punkterna får label 1 om \n",
    "$$(x_1-c_1)^2 + (x_2 - c_2)^2 > r^2 $$"
   ]
  },
  {
   "cell_type": "code",
   "execution_count": 376,
   "metadata": {},
   "outputs": [],
   "source": [
    "#n,c are the parameters fo for the hyperplane separating the two sets n*x=c\n",
    "c_1 = 0.5\n",
    "c_2 = 0.5\n",
    "r = 0.4\n",
    "y = np.zeros((N,)) #labels\n",
    "for i in range(N):\n",
    "    if ((x[0,i]-c_1)**2 + (x[1,i]-c_2)**2>r**2):\n",
    "        y[i] = 1"
   ]
  },
  {
   "cell_type": "code",
   "execution_count": 375,
   "metadata": {},
   "outputs": [
    {
     "data": {
      "text/plain": [
       "array([0.37195222, 0.80705769])"
      ]
     },
     "execution_count": 375,
     "metadata": {},
     "output_type": "execute_result"
    }
   ],
   "source": [
    "x[:,10]"
   ]
  },
  {
   "cell_type": "code",
   "execution_count": 377,
   "metadata": {},
   "outputs": [
    {
     "data": {
      "text/plain": [
       "[<matplotlib.lines.Line2D at 0x7f18e5e0b6a0>]"
      ]
     },
     "execution_count": 377,
     "metadata": {},
     "output_type": "execute_result"
    },
    {
     "data": {
      "image/png": "[encoded data removed]",
      "text/plain": [
       "<Figure size 432x288 with 1 Axes>"
      ]
     },
     "metadata": {
      "needs_background": "light"
     },
     "output_type": "display_data"
    }
   ],
   "source": [
    "plt.plot(x[0,y==0],x[1,y==0],'r*') #plots all points with albels 0\n",
    "plt.plot(x[0,y==1],x[1,y==1],'bo') #plots all points with labels 1 #plots the separating hyperplane\n",
    "theta = np.linspace(0,2*np.math.pi)\n",
    "x_c = c_1+ r*np.cos(theta)\n",
    "y_c = c_2 + r*np.sin(theta)\n",
    "plt.plot(x_c,y_c) #plot the circle"
   ]
  },
  {
   "cell_type": "markdown",
   "metadata": {},
   "source": [
    "Punkterna ska nu klassifieras med ett neuralt nätverk med ett gömt lager. Input är två dimensionell och multipliceras med en $n_1\\times 2$ dimensionell matris $W_1$, adderas med en $n_1$ dimensionell vektor $b_1$ och körs genom en icke-linjär aktiverings funktion $\\sigma_1$. Det ger värdena i det gömda lagret $h_1$.\n",
    "$$h_1 = \\sigma_1(W_1x+b)$$\n",
    "Denna output multipliceras sedan med en $1\\times n_1$ dimensionell vektor $W_2$, adderas med skalären $b_2$ och körs genom en logistisk funktion $\\sigma_2$\n",
    "$$f = \\sigma_2(W_2h_1 + b_2)$$"
   ]
  },
  {
   "cell_type": "markdown",
   "metadata": {},
   "source": [
    "Nedan är ett exempel på ett lätt neuralt nätverk med tanh som aktiveringsfunktion i hidden layer. Notera att den returnerar mer än bara funktionsvärdet f. De andra värdena kan vara bra att ha när man beräknar gradienten. "
   ]
  },
  {
   "cell_type": "code",
   "execution_count": 382,
   "metadata": {},
   "outputs": [],
   "source": [
    "def f_nn(W_1,W_2, b_1,b_2,x,batch_size):\n",
    "    a_1 = np.matmul(W_1,x.reshape((2,batch_size))) + b_1 #Gör beräkningen W_1x + b. Reshapar så att dimensionerna i matrismultiplikationerna blir rätt\n",
    "    h_1 = np.tanh(a_1) #räknar ut värdena i hidden layer genom att ta akteveringsfunktionen på tidigare uträknat.\n",
    "    a_2 = np.matmul(W_2,h_1) + b_2 #Räknar ut W_2h_1 + b_2\n",
    "    f = 1/(1+np.exp(-a_2))  #räknar ut outputen, som är en sigmoid funktion.\n",
    "    return (f,a_1,h_1,a_2) #Kan vara bra att returnera mer än bara funktionsvärdet för att underlätta uträckningarna i backpropagation"
   ]
  },
  {
   "cell_type": "code",
   "execution_count": 360,
   "metadata": {},
   "outputs": [
    {
     "name": "stdout",
     "output_type": "stream",
     "text": [
      "[[0.2 0.3 0.4]\n",
      " [0.5 0.6 0.7]]\n"
     ]
    }
   ],
   "source": [
    "x_c = np.array([[0.2,0.3],[0.4,0.5],[0.6,0.7]])\n",
    "f,a_1,h_1,a_2 = f_nn(W_1,W_2,b_1,b_2,x_c,3)"
   ]
  },
  {
   "cell_type": "code",
   "execution_count": 392,
   "metadata": {},
   "outputs": [],
   "source": [
    "def loss(y,f):\n",
    "    return np.mean(-y*np.log(f+1e-15) - (1-y)*np.log(1-f+1e-15))\n",
    "\n",
    "def loss_der(y,f):\n",
    "    return (-y*1/(f+1e-15) + (1-y)*1/(1-f+1e-15))\n",
    "\n",
    "def tanh_der(x):\n",
    "    return 1-np.tanh(x)**2\n",
    "\n",
    "def accuracy(W_1,W_2,b_1,b_2):\n",
    "    NN = 10000\n",
    "    x_test = np.random.uniform(0,1,size=(2,NN))\n",
    "    y_test = (x_test[0,:]-c_1)**2 + (x_test[1,:]-c_2)**2>r**2\n",
    "    f,_,_,_ =  f_nn(W_1,W_2,b_1,b_2,x_test,NN)\n",
    "    f_test = f>1/2\n",
    "    return np.mean(y_test==f_test)"
   ]
  },
  {
   "cell_type": "markdown",
   "metadata": {},
   "source": [
    "Vi initierar vikterna slumpvis, tar bredden 4 i hidden layer."
   ]
  },
  {
   "cell_type": "code",
   "execution_count": 395,
   "metadata": {},
   "outputs": [],
   "source": [
    "n_1 = 100\n",
    "W_1 = np.random.normal(size= (n_1,2))\n",
    "W_2 = np.random.normal(size = (1,n_1))\n",
    "b_1 = np.random.normal(size= (n_1,1))\n",
    "b_2 = np.random.normal(size = (1,1))"
   ]
  },
  {
   "cell_type": "code",
   "execution_count": 396,
   "metadata": {},
   "outputs": [
    {
     "name": "stdout",
     "output_type": "stream",
     "text": [
      "Loss: 1.1751009844872047        accuracy= 0.4337\n",
      "Loss: 0.5317465288477706        accuracy= 0.6117\n",
      "Loss: 0.7308100916986335        accuracy= 0.6341\n",
      "Loss: 0.3520775656982029        accuracy= 0.8648\n",
      "Loss: 0.425568482589397        accuracy= 0.7767\n",
      "Loss: 0.2941465037964852        accuracy= 0.9031\n",
      "Loss: 0.5258547257299532        accuracy= 0.7609\n",
      "Loss: 0.21826147920705857        accuracy= 0.9118\n",
      "Loss: 0.21123023227755894        accuracy= 0.8869\n",
      "Loss: 0.5586919418436572        accuracy= 0.7448\n",
      "Loss: 0.5900563477309423        accuracy= 0.6871\n",
      "Loss: 0.6315049464671477        accuracy= 0.6682\n",
      "Loss: 0.22146602637147617        accuracy= 0.8769\n",
      "Loss: 0.3629812703396532        accuracy= 0.7901\n",
      "Loss: 0.3145140662824385        accuracy= 0.8308\n",
      "Loss: 0.7049642404747106        accuracy= 0.6486\n",
      "Loss: 0.2600167937304551        accuracy= 0.8242\n",
      "Loss: 0.1989104028392023        accuracy= 0.8736\n",
      "Loss: 0.18259408556544102        accuracy= 0.8748\n",
      "Loss: 0.22140222674507967        accuracy= 0.8689\n",
      "Loss: 0.2224154402197483        accuracy= 0.8322\n",
      "Loss: 0.3635399113189359        accuracy= 0.7609\n",
      "Loss: 0.2939547731459349        accuracy= 0.8359\n",
      "Loss: 0.155795359058554        accuracy= 0.9151\n",
      "Loss: 0.14101061160078698        accuracy= 0.8971\n",
      "Loss: 0.39047982356088823        accuracy= 0.7941\n",
      "Loss: 0.18866537485114346        accuracy= 0.8884\n",
      "Loss: 0.19260402892022552        accuracy= 0.8592\n",
      "Loss: 0.12701207530245662        accuracy= 0.9171\n",
      "Loss: 0.22909276235597248        accuracy= 0.8563\n",
      "Loss: 0.6544203945265223        accuracy= 0.7188\n",
      "Loss: 0.16145901366013457        accuracy= 0.9277\n",
      "Loss: 0.1383415740374312        accuracy= 0.8989\n",
      "Loss: 0.5258131840745875        accuracy= 0.7413\n",
      "Loss: 0.21538027034317966        accuracy= 0.8751\n",
      "Loss: 0.45324419761052553        accuracy= 0.8201\n",
      "Loss: 0.2379055140792662        accuracy= 0.8565\n",
      "Loss: 0.17158686143912533        accuracy= 0.9453\n",
      "Loss: 0.14707545661607757        accuracy= 0.8934\n",
      "Loss: 0.19844869583849234        accuracy= 0.8956\n",
      "Loss: 0.2029365933536306        accuracy= 0.8524\n",
      "Loss: 0.11357113913983509        accuracy= 0.9105\n",
      "Loss: 0.09026583973833807        accuracy= 0.9249\n",
      "Loss: 0.17140578484261934        accuracy= 0.865\n",
      "Loss: 0.16371033490352624        accuracy= 0.8729\n",
      "Loss: 0.16541710731677522        accuracy= 0.8982\n",
      "Loss: 0.18235573468180027        accuracy= 0.8591\n",
      "Loss: 0.12169190313251653        accuracy= 0.8907\n",
      "Loss: 0.19810934845921835        accuracy= 0.851\n",
      "Loss: 0.07483059345864007        accuracy= 0.967\n",
      "Loss: 0.13108809951339143        accuracy= 0.8955\n",
      "Loss: 0.14807883894514318        accuracy= 0.9015\n",
      "Loss: 0.1454336581290618        accuracy= 0.9144\n",
      "Loss: 0.2057749814333436        accuracy= 0.8705\n",
      "Loss: 0.13975474865221538        accuracy= 0.8895\n",
      "Loss: 0.1373024635334671        accuracy= 0.9\n",
      "Loss: 0.07089579237250544        accuracy= 0.9677\n",
      "Loss: 0.13145083593695575        accuracy= 0.8995\n",
      "Loss: 0.17682514010580305        accuracy= 0.8989\n",
      "Loss: 0.07623760765230568        accuracy= 0.9442\n",
      "Loss: 0.06711076659423246        accuracy= 0.9445\n",
      "Loss: 0.27091149061293285        accuracy= 0.841\n",
      "Loss: 0.20202687424809546        accuracy= 0.8574\n",
      "Loss: 0.2338324897404696        accuracy= 0.8677\n",
      "Loss: 0.09520546703020567        accuracy= 0.9033\n",
      "Loss: 0.4658868803055289        accuracy= 0.8094\n",
      "Loss: 0.06172230578228338        accuracy= 0.9471\n",
      "Loss: 0.11766032853410766        accuracy= 0.9246\n",
      "Loss: 0.09576331716924334        accuracy= 0.9218\n",
      "Loss: 0.10933646949315655        accuracy= 0.9607\n",
      "Loss: 0.2334377301754694        accuracy= 0.85\n",
      "Loss: 0.3730321133228778        accuracy= 0.8932\n",
      "Loss: 0.13771665842911443        accuracy= 0.8791\n",
      "Loss: 0.11986989682927479        accuracy= 0.929\n",
      "Loss: 0.20268924314568795        accuracy= 0.8706\n",
      "Loss: 0.08295150870103964        accuracy= 0.9468\n",
      "Loss: 0.23487071246757543        accuracy= 0.8503\n",
      "Loss: 0.2935915963891825        accuracy= 0.8297\n",
      "Loss: 0.33913920917894047        accuracy= 0.8215\n",
      "Loss: 0.16773332233437077        accuracy= 0.8735\n",
      "Loss: 0.1746944294042263        accuracy= 0.8875\n",
      "Loss: 0.27883103447147084        accuracy= 0.8575\n",
      "Loss: 0.08702731399308852        accuracy= 0.9278\n",
      "Loss: 0.10446001615282911        accuracy= 0.9098\n",
      "Loss: 0.2650890028396179        accuracy= 0.8852\n",
      "Loss: 0.27462759052558644        accuracy= 0.8638\n",
      "Loss: 0.08296942110278739        accuracy= 0.9191\n",
      "Loss: 0.12725942642879967        accuracy= 0.9075\n",
      "Loss: 0.19459997442719876        accuracy= 0.8768\n",
      "Loss: 0.21369734511650457        accuracy= 0.8594\n",
      "Loss: 0.19305120140302356        accuracy= 0.9155\n",
      "Loss: 0.673958435913325        accuracy= 0.7617\n",
      "Loss: 0.0554461768048646        accuracy= 0.9266\n",
      "Loss: 0.09913949881078535        accuracy= 0.9162\n",
      "Loss: 0.18841396514706701        accuracy= 0.873\n",
      "Loss: 0.14355878829465668        accuracy= 0.8957\n",
      "Loss: 0.09826219703850857        accuracy= 0.9172\n",
      "Loss: 0.13716665330831007        accuracy= 0.8934\n",
      "Loss: 0.34153035975954027        accuracy= 0.843\n",
      "Loss: 0.07257661921734475        accuracy= 0.9305\n"
     ]
    }
   ],
   "source": [
    "batch_size = 1\n",
    "epochs = 10\n",
    "step_size = 0.1\n",
    "for i in range(100):\n",
    "    for j in range(100):\n",
    "        ind = np.random.choice(N)\n",
    "        x_ind = x[:,ind]\n",
    "        y_ind = y[ind]\n",
    "        f,a_1,h_1,a_2 = f_nn(W_1,W_2,b_1,b_2,x_ind,batch_size)\n",
    "        loss_step = loss(y_ind,f)\n",
    "        delta_2 = loss_der(y_ind,f)*1/(1+np.exp(-a_2))*(1-1/(1+np.exp(-a_2)))\n",
    "        dL_dW_2 = h_1.transpose()*delta_2\n",
    "        dL_db_2 = delta_2\n",
    "        delta_1 = (W_2.transpose()*delta_2)*tanh_der(a_1)\n",
    "        dL_dW_1 = np.outer(delta_1,x_ind)\n",
    "        dL_db_1 = delta_1\n",
    "        W_1 = W_1 - step_size*dL_dW_1\n",
    "        W_2 = W_2 - step_size*dL_dW_2\n",
    "        b_1 = b_1 - step_size*dL_db_1\n",
    "        b_2 = b_2 - step_size*dL_db_2\n",
    "    f,_,_,_ = f_nn(W_1,W_2,b_1,b_2,x,100)\n",
    "    print(\"Loss: {}        accuracy= {}\".format(loss(y,f),accuracy(W_1,W_2,b_1,b_2)))"
   ]
  },
  {
   "cell_type": "code",
   "execution_count": 387,
   "metadata": {},
   "outputs": [
    {
     "data": {
      "text/plain": [
       "array([[ True,  True, False,  True, False,  True, False, False, False,\n",
       "         True,  True, False, False,  True,  True,  True,  True,  True,\n",
       "        False,  True,  True,  True, False, False,  True,  True, False,\n",
       "        False,  True, False,  True, False,  True,  True, False,  True,\n",
       "        False,  True,  True,  True,  True,  True, False, False, False,\n",
       "         True,  True,  True, False,  True,  True,  True,  True,  True,\n",
       "         True,  True,  True, False,  True,  True, False,  True, False,\n",
       "         True, False,  True,  True,  True,  True,  True,  True,  True,\n",
       "         True,  True,  True, False, False,  True,  True,  True,  True,\n",
       "        False, False, False,  True,  True, False,  True, False,  True,\n",
       "         True,  True,  True,  True, False,  True,  True,  True,  True,\n",
       "        False]])"
      ]
     },
     "execution_count": 387,
     "metadata": {},
     "output_type": "execute_result"
    }
   ],
   "source": [
    "x_test = np.random.uniform(0,1,size=(2,100))\n",
    "y_test = (x_test[0,:]-c_1)**2 + (x_test[1,:]-c_2)**2>r**2\n",
    "f,_,_,_ =  f_nn(W_1,W_2,b_1,b_2,x_test,100)\n",
    "f_test = f>1/2\n",
    "f_test\n"
   ]
  },
  {
   "cell_type": "code",
   "execution_count": 388,
   "metadata": {},
   "outputs": [
    {
     "data": {
      "text/plain": [
       "[<matplotlib.lines.Line2D at 0x7f18df4c1898>]"
      ]
     },
     "execution_count": 388,
     "metadata": {},
     "output_type": "execute_result"
    },
    {
     "data": {
      "image/png": "[encoded data removed]",
      "text/plain": [
       "<Figure size 432x288 with 1 Axes>"
      ]
     },
     "metadata": {
      "needs_background": "light"
     },
     "output_type": "display_data"
    }
   ],
   "source": [
    "NN = 100\n",
    "x_test = np.random.uniform(0,1,size=(2,NN))\n",
    "y_test = (x_test[0,:]-c_1)**2 + (x_test[1,:]-c_2)**2>r**2\n",
    "f,_,_,_ =  f_nn(W_1,W_2,b_1,b_2,x_test,NN)\n",
    "f = f.reshape((NN,))\n",
    "f_test = f>1/2\n",
    "plt.plot(x_test[0,f_test == 0],x_test[1,f_test==0],'r*')\n",
    "plt.plot(x_test[0,f_test == 1],x_test[1,f_test==1],'b*')"
   ]
  },
  {
   "cell_type": "code",
   "execution_count": 325,
   "metadata": {},
   "outputs": [
    {
     "data": {
      "text/plain": [
       "(1, 10000)"
      ]
     },
     "execution_count": 325,
     "metadata": {},
     "output_type": "execute_result"
    }
   ],
   "source": []
  },
  {
   "cell_type": "code",
   "execution_count": 397,
   "metadata": {},
   "outputs": [
    {
     "data": {
      "image/png": "[encoded data removed]",
      "text/plain": [
       "<Figure size 432x288 with 1 Axes>"
      ]
     },
     "metadata": {
      "needs_background": "light"
     },
     "output_type": "display_data"
    }
   ],
   "source": [
    "x_1 = np.linspace(0,1,20)\n",
    "x_2 = np.linspace(0,1,20)\n",
    "for i in x_1:\n",
    "    for j in x_2:\n",
    "        f,_,_,_ = f_nn(W_1,W_2,b_1,b_2,np.array([i,j]),1)\n",
    "        if f>1/2:\n",
    "            plt.plot(i,j,'b*')\n",
    "        else:\n",
    "            plt.plot(i,j,'r*')"
   ]
  },
  {
   "cell_type": "code",
   "execution_count": null,
   "metadata": {},
   "outputs": [],
   "source": []
  },
  {
   "cell_type": "code",
   "execution_count": 255,
   "metadata": {},
   "outputs": [
    {
     "data": {
      "image/png": "[encoded data removed]",
      "text/plain": [
       "<Figure size 432x288 with 1 Axes>"
      ]
     },
     "metadata": {
      "needs_background": "light"
     },
     "output_type": "display_data"
    }
   ],
   "source": [
    "x_1 = np.linspace(0,1,20)\n",
    "x_2 = np.linspace(0,1,20)\n",
    "for i in x_1:\n",
    "    for j in x_2:\n",
    "        if (i-c_1)**2 + (j-c_2)**2>r**2:\n",
    "            plt.plot(i,j,'b*')\n",
    "        else:\n",
    "            plt.plot(i,j,'r*')"
   ]
  },
  {
   "cell_type": "code",
   "execution_count": 247,
   "metadata": {},
   "outputs": [
    {
     "data": {
      "text/plain": [
       "array([[2.12554644e-11, 9.99995413e-01, 9.99998360e-01, 7.35327870e-01,\n",
       "        2.99703757e-11, 7.11761008e-08, 4.14453882e-05, 3.23513850e-10,\n",
       "        2.09319250e-04, 9.99999528e-01, 4.02638420e-08, 9.99999833e-01,\n",
       "        9.55627032e-01, 4.32725133e-06, 2.96190522e-01, 9.99068716e-01,\n",
       "        6.99870780e-01, 7.89273046e-12, 1.86896935e-09, 3.05069825e-06,\n",
       "        1.01948657e-09, 7.04446913e-07, 7.16999318e-12, 6.67834734e-03,\n",
       "        6.36770151e-10, 9.14646077e-01, 9.83881724e-01, 9.99962125e-01,\n",
       "        4.63933295e-10, 9.99995315e-01, 3.14756609e-10, 9.99374735e-01,\n",
       "        9.98132877e-01, 2.49975298e-05, 9.99679008e-01, 4.32396178e-08,\n",
       "        8.34479188e-06, 7.39974794e-01, 9.99911405e-01, 7.74210447e-11,\n",
       "        2.87858041e-01, 9.99999806e-01, 9.97975439e-01, 9.97439602e-01,\n",
       "        2.74655195e-07, 9.49209613e-01, 3.01171399e-03, 9.99845815e-01,\n",
       "        1.81885411e-09, 7.73413088e-11, 2.48047519e-10, 7.06181558e-09,\n",
       "        2.18053011e-08, 9.99768061e-01, 3.14480581e-08, 9.99947344e-01,\n",
       "        9.99995527e-01, 3.09418094e-11, 9.99999716e-01, 9.98520353e-01,\n",
       "        4.47297277e-01, 9.99999959e-01, 9.27662252e-01, 1.92495694e-10,\n",
       "        9.95972866e-01, 1.72611089e-03, 3.60563465e-08, 7.44802373e-01,\n",
       "        1.92268785e-11, 3.74393637e-02, 9.99991884e-01, 5.67994761e-06,\n",
       "        9.97451820e-01, 9.92356518e-01, 3.67678935e-04, 9.99988075e-01,\n",
       "        9.97421096e-01, 9.99999986e-01, 9.99999995e-01, 9.94839364e-01,\n",
       "        9.99999952e-01, 9.99999825e-01, 9.98326322e-01, 9.99999998e-01,\n",
       "        1.35661166e-01, 9.99999837e-01, 5.34752411e-06, 9.99999881e-01,\n",
       "        1.23469346e-10, 9.87864468e-01, 3.65079757e-02, 1.72318543e-01,\n",
       "        3.54141447e-07, 2.51848201e-01, 3.70294965e-11, 9.99758828e-01,\n",
       "        9.18931242e-12, 6.95079188e-01, 2.02240716e-02, 4.47337608e-03]])"
      ]
     },
     "execution_count": 247,
     "metadata": {},
     "output_type": "execute_result"
    }
   ],
   "source": [
    "f,a_1,h_1,a_2 = f_nn(W_1,W_2,b_1,b_2,x[:,:],100)\n",
    "f"
   ]
  },
  {
   "cell_type": "code",
   "execution_count": 251,
   "metadata": {},
   "outputs": [
    {
     "data": {
      "text/plain": [
       "array([[-0.09968595]])"
      ]
     },
     "execution_count": 251,
     "metadata": {},
     "output_type": "execute_result"
    }
   ],
   "source": [
    "dL_db_2"
   ]
  },
  {
   "cell_type": "code",
   "execution_count": 257,
   "metadata": {},
   "outputs": [
    {
     "data": {
      "text/plain": [
       "array([ True, False, False,  True,  True, False,  True, False, False,\n",
       "        True, False,  True, False, False, False,  True, False,  True,\n",
       "        True, False, False, False, False,  True,  True,  True, False,\n",
       "       False,  True,  True,  True,  True,  True,  True,  True, False,\n",
       "        True,  True,  True,  True,  True, False, False,  True,  True,\n",
       "        True,  True,  True,  True,  True, False, False, False, False,\n",
       "        True, False,  True, False,  True, False,  True, False, False,\n",
       "        True, False, False, False,  True,  True, False, False,  True,\n",
       "       False,  True, False, False, False,  True,  True,  True, False,\n",
       "       False, False, False, False,  True,  True,  True,  True,  True,\n",
       "       False, False, False,  True, False, False,  True,  True, False,\n",
       "        True])"
      ]
     },
     "execution_count": 257,
     "metadata": {},
     "output_type": "execute_result"
    }
   ],
   "source": [
    "ct = np.random.uniform(0,1,size = (100,2))\n",
    "ct[:,0] + ct[:,1]>1"
   ]
  },
  {
   "cell_type": "code",
   "execution_count": 260,
   "metadata": {},
   "outputs": [
    {
     "data": {
      "text/plain": [
       "0"
      ]
     },
     "execution_count": 260,
     "metadata": {},
     "output_type": "execute_result"
    }
   ],
   "source": [
    "False*False"
   ]
  },
  {
   "cell_type": "markdown",
   "metadata": {},
   "source": [
    "Nu är det bara att träna vikterna i NN med gradient descent. Klarar den inte av att klassifiera punkterna så testa att göra bredden i det gömda lagret större"
   ]
  }
 ],
 "metadata": {
  "kernelspec": {
   "display_name": "Python 3",
   "language": "python",
   "name": "python3"
  },
  "language_info": {
   "codemirror_mode": {
    "name": "ipython",
    "version": 3
   },
   "file_extension": ".py",
   "mimetype": "text/x-python",
   "name": "python",
   "nbconvert_exporter": "python",
   "pygments_lexer": "ipython3",
   "version": "3.6.8"
  }
 },
 "nbformat": 4,
 "nbformat_minor": 4
}
