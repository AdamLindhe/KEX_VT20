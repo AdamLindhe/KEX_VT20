{
 "cells": [
  {
   "cell_type": "code",
   "execution_count": 5,
   "metadata": {},
   "outputs": [],
   "source": [
    "import numpy as np\n",
    "import matplotlib.pyplot as plt"
   ]
  },
  {
   "cell_type": "markdown",
   "metadata": {},
   "source": [
    "Vi genererar slumpmässig datapunkter uniformt på $[0,1]^2$"
   ]
  },
  {
   "cell_type": "code",
   "execution_count": 11,
   "metadata": {},
   "outputs": [],
   "source": [
    "N = 20 #number of data points\n",
    "x = np.random.uniform(0,1, size = (N,2))"
   ]
  },
  {
   "cell_type": "markdown",
   "metadata": {},
   "source": [
    "Sedan så definerar vi ett plan (eller en linje eftersom vi är i 2d) så om punkterna ligger ovanför så får de label y = 1 0ch ligger de under får de label y= 0"
   ]
  },
  {
   "cell_type": "markdown",
   "metadata": {},
   "source": [
    "linjens exvation ges av $\\vec{n}\\cdot \\vec{x} = c$ så punkterna får label 1 om \n",
    "$$ \\vec{n}\\cdot \\vec{x} > c $$"
   ]
  },
  {
   "cell_type": "code",
   "execution_count": 41,
   "metadata": {},
   "outputs": [],
   "source": [
    "#n,c are the parameters fo for the hyperplane separating the two sets n*x=c\n",
    "n = np.array([1,2])\n",
    "c = 1.2\n",
    "y = np.zeros((N,)) #labels\n",
    "for i in range(N):\n",
    "    if (np.dot(n,x[i,:])>c):\n",
    "        y[i] = 1"
   ]
  },
  {
   "cell_type": "code",
   "execution_count": 42,
   "metadata": {},
   "outputs": [
    {
     "data": {
      "text/plain": [
       "[<matplotlib.lines.Line2D at 0x7fdf07252668>]"
      ]
     },
     "execution_count": 42,
     "metadata": {},
     "output_type": "execute_result"
    },
    {
     "data": {
      "image/png": "[encoded data removed]",
      "text/plain": [
       "<Figure size 432x288 with 1 Axes>"
      ]
     },
     "metadata": {
      "needs_background": "light"
     },
     "output_type": "display_data"
    }
   ],
   "source": [
    "plt.plot(x[y==0,0],x[y==0,1],'r*') #plots all points with albels 0\n",
    "plt.plot(x[y==1,0],x[y==1,1],'bo') #plots all points with labels 1\n",
    "plt.plot([0,c/n[0]],[c/n[1],0]) #plots the separating hyperplane"
   ]
  },
  {
   "cell_type": "markdown",
   "metadata": {},
   "source": [
    "Nu ska vi göre en logistisk regression. Vi har modellen \n",
    "$$f_{\\omega_0,\\omega_1,\\omega_2}(x_1,x_2) = P(Y = 1|x,\\vec{\\omega}) = \\frac{1}{1+e^{-(\\omega_0 + \\omega_1 x_1 + \\omega_2 x_2)}} = \\frac{e^{(\\omega_0 + \\omega_1 x_1 + \\omega_2 x_2)}}{1+e^{(\\omega_0 + \\omega_1 x_1 + \\omega_2 x_2)}}$$\n",
    "Och loss funktionen\n",
    "$$L(f_{\\omega_0,\\omega_1,\\omega_2}(x_1,x_2),y) = -y\\log(f_{\\omega_0,\\omega_1,\\omega_2}(x_1,x_2)) - (1-y)\\log(1-f_{\\omega_0,\\omega_1,\\omega_2}(x_1,x_2))$$\n",
    "Så lossen för all våran data är\n",
    "$$L = -\\sum_{i=0}^N y^i\\log(f_{\\omega_0,\\omega_1,\\omega_2}(x^i_1,x^i_2)) + (1-y^i)\\log(1-f_{\\omega_0,\\omega_1,\\omega_2}(x^i_1,x^i_2))$$\n",
    "Det är den här lossen vi vill minimera med någon metod. Alltså hitta de optimala parametrarna $\\omega_0,\\omega_1,\\omega_2$"
   ]
  },
  {
   "cell_type": "markdown",
   "metadata": {},
   "source": [
    "## (Statistisk överkurs)\n",
    "Om man undrar var lossen kommer ifrån så kan man ur ett statistiskt perspektiv se det såhär. Vi modelerar $y|x \\sim Ber(f_{\\omega_0,\\omega_1,\\omega_2}(x_1,x_2))$. Då blir Likelihooden för vår data\n",
    "$$P(y^1,y^2\\cdots,y^N|x^1,x^2\\cdots x^N) = \\prod_{i=1}^NP(y^i|x^i) = \\prod_{i=1} (f_{\\omega_0,\\omega_1,\\omega_2}(x_1,x_2))^{y_i}(1-f_{\\omega_0,\\omega_1,\\omega_2}(x_1,x_2))^{1-y_1}$$\n",
    "För att sannoliketsfunktionen till en $Ber(\\theta)$ variabl kan skrivas som $p_Y(y) = \\theta^y(1-\\theta)^{1-y}$. Att maximera likelihooden är samma sak som att minimera negativ logaritmen av likelihoode. Det är det vi gör ovan. Så att minimera lossen (Som i maskininlärningsvärlden kalla cross-entropy) är helt enkelt att h"
   ]
  }
 ],
 "metadata": {
  "kernelspec": {
   "display_name": "Python 3",
   "language": "python",
   "name": "python3"
  },
  "language_info": {
   "codemirror_mode": {
    "name": "ipython",
    "version": 3
   },
   "file_extension": ".py",
   "mimetype": "text/x-python",
   "name": "python",
   "nbconvert_exporter": "python",
   "pygments_lexer": "ipython3",
   "version": "3.5.2"
  }
 },
 "nbformat": 4,
 "nbformat_minor": 4
}
