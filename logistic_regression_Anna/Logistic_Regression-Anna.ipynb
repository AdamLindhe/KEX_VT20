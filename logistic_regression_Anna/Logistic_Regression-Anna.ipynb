{
 "cells": [
  {
   "cell_type": "code",
   "execution_count": 323,
   "metadata": {},
   "outputs": [],
   "source": [
    "import numpy as np\n",
    "import matplotlib.pyplot as plt"
   ]
  },
  {
   "cell_type": "markdown",
   "metadata": {},
   "source": [
    "Vi genererar slumpmässig datapunkter uniformt på $[0,1]^2$"
   ]
  },
  {
   "cell_type": "code",
   "execution_count": 324,
   "metadata": {},
   "outputs": [],
   "source": [
    "np.random.seed(133)\n",
    "N = 20 #number of data points\n",
    "x = np.random.uniform(0,1, size = (N,2))"
   ]
  },
  {
   "cell_type": "markdown",
   "metadata": {},
   "source": [
    "Sedan så definerar vi ett plan (eller en linje eftersom vi är i 2d) så om punkterna ligger ovanför så får de label y = 1 0ch ligger de under får de label y= 0"
   ]
  },
  {
   "cell_type": "markdown",
   "metadata": {},
   "source": [
    "linjens exvation ges av $\\vec{n}\\cdot \\vec{x} = c$ så punkterna får label 1 om \n",
    "$$ \\vec{n}\\cdot \\vec{x} > c $$"
   ]
  },
  {
   "cell_type": "code",
   "execution_count": 325,
   "metadata": {},
   "outputs": [],
   "source": [
    "#n,c are the parameters fo for the hyperplane separating the two sets n*x=c\n",
    "n = np.array([1,2])\n",
    "c = 1.4\n",
    "y = np.zeros((N,)) #labels\n",
    "for i in range(N):\n",
    "    if (np.dot(n,x[i,:])>c):\n",
    "        y[i] = 1"
   ]
  },
  {
   "cell_type": "code",
   "execution_count": 326,
   "metadata": {},
   "outputs": [
    {
     "data": {
      "text/plain": [
       "[<matplotlib.lines.Line2D at 0x7f938afc16a0>]"
      ]
     },
     "execution_count": 326,
     "metadata": {},
     "output_type": "execute_result"
    },
    {
     "data": {
      "image/png": "[encoded data removed]",
      "text/plain": [
       "<Figure size 432x288 with 1 Axes>"
      ]
     },
     "metadata": {
      "needs_background": "light"
     },
     "output_type": "display_data"
    }
   ],
   "source": [
    "plt.plot(x[y==0,0],x[y==0,1],'r*') #plots all points with albels 0\n",
    "plt.plot(x[y==1,0],x[y==1,1],'bo') #plots all points with labels 1\n",
    "plt.plot([0,c/n[0]],[c/n[1],0]) #plots the separating hyperplane"
   ]
  },
  {
   "cell_type": "markdown",
   "metadata": {},
   "source": [
    "Nu ska vi göre en logistisk regression. Vi har modellen \n",
    "$$f_{\\omega_0,\\omega_1,\\omega_2}(x_1,x_2) = P(Y = 1|x,\\vec{\\omega}) = \\frac{1}{1+e^{-(\\omega_0 + \\omega_1 x_1 + \\omega_2 x_2)}} = \\frac{e^{(\\omega_0 + \\omega_1 x_1 + \\omega_2 x_2)}}{1+e^{(\\omega_0 + \\omega_1 x_1 + \\omega_2 x_2)}}$$\n",
    "Och loss funktionen\n",
    "$$L(f_{\\omega_0,\\omega_1,\\omega_2}(x_1,x_2),y) = -y\\log(f_{\\omega_0,\\omega_1,\\omega_2}(x_1,x_2)) - (1-y)\\log(1-f_{\\omega_0,\\omega_1,\\omega_2}(x_1,x_2))$$\n",
    "Så lossen för all våran data är\n",
    "$$L = -\\sum_{i=0}^N y^i\\log(f_{\\omega_0,\\omega_1,\\omega_2}(x^i_1,x^i_2)) + (1-y^i)\\log(1-f_{\\omega_0,\\omega_1,\\omega_2}(x^i_1,x^i_2))$$\n",
    "Det är den här lossen vi vill minimera med någon metod. Alltså hitta de optimala parametrarna $\\omega_0,\\omega_1,\\omega_2$"
   ]
  },
  {
   "cell_type": "code",
   "execution_count": 327,
   "metadata": {},
   "outputs": [],
   "source": [
    "def f(x,w):\n",
    "    \"\"\"Output of the neural network, where w is the 3D vector containing the weights and x1 and x2 are the \n",
    "    input coordinates. Outputs a value in the range [0,1]. \"\"\"\n",
    "    a = w[0]+w[1]*x[0]+w[2]*x[1];\n",
    "    return 1/(1+np.exp(-a))"
   ]
  },
  {
   "cell_type": "code",
   "execution_count": 328,
   "metadata": {},
   "outputs": [],
   "source": [
    "def loss(x,w,y):\n",
    "    #log-loss or binary cross-entropy is used\n",
    "    #Returns value -y*np.log(f(x1,x2,w))-(1-y)*np.log(1-f(x1,x2,w))\n",
    "    if y == 1:\n",
    "        return -np.log(f(x,w))\n",
    "    else:\n",
    "        return -np.log(1-f(x,w))"
   ]
  },
  {
   "cell_type": "code",
   "execution_count": 329,
   "metadata": {},
   "outputs": [],
   "source": [
    "def total_loss(w):\n",
    "    #This is the total log-loss from all training data.\n",
    "    L = 0\n",
    "    for i in range(N):\n",
    "        L += loss(x[i,:],w,y[i])\n",
    "    return L/N\n",
    "    "
   ]
  },
  {
   "cell_type": "markdown",
   "metadata": {},
   "source": [
    "Använder kedjeregeln så att vi kan utnyttja att $\\frac{\\partial L}{\\partial w_i} = \\frac{\\partial L}{\\partial f}\\frac{\\partial f}{\\partial a}\\frac{\\partial a}{\\partial w_i}$"
   ]
  },
  {
   "cell_type": "code",
   "execution_count": 351,
   "metadata": {},
   "outputs": [],
   "source": [
    "def gradient_sample(w,x,y):\n",
    "    #Computes the gradient with respect to one sample only by using backpropagation (the chain rule)\n",
    "    \n",
    "    #xvec = np.array([1,x[0],x[1]])\n",
    "    #return xvec*(-y+1/(1+np.exp(w@xvec))) #Division by zero in log if this is used\n",
    "    \n",
    "    a = w[0]+w[1]*x[0]+w[2]*x[1];\n",
    "    dfda = np.exp(-a)/((1+np.exp(-a))**2)\n",
    "    \n",
    "    dadw = np.array([1,x[0],x[1]])\n",
    "    if y ==1:\n",
    "        return -dfda*dadw/f(x,w)\n",
    "    else:\n",
    "        return dfda*dadw/(1-f(x,w))\n",
    "    \n"
   ]
  },
  {
   "cell_type": "code",
   "execution_count": 352,
   "metadata": {},
   "outputs": [],
   "source": [
    "def gradient(w,x = x,y=y):\n",
    "    #Computes total gradient \n",
    "    g = 0\n",
    "    for i in range(N):\n",
    "        g = g+gradient_sample(w,x[i,:],y[i])\n",
    "    return g"
   ]
  },
  {
   "cell_type": "code",
   "execution_count": 353,
   "metadata": {},
   "outputs": [],
   "source": [
    "train_sessions = 20000\n",
    "alpha = 1\n",
    "\n",
    "w = np.random.normal(size = (3,))\n",
    "SGD = 0\n",
    "E = []\n",
    "\n",
    "for i in range(train_sessions):\n",
    "    #If training with gradient descent\n",
    "    if not SGD:\n",
    "        w = w-alpha*gradient(w,x,y)\n",
    "    else:    \n",
    "        #If training with SGD - can I choose the same sample multiple times?\n",
    "        k = np.random.randint(0,N)\n",
    "        w = w-alpha*gradient_sample(w,x[k,:],y[k])\n",
    "    \n",
    "    if i%N == 0:\n",
    "        E.append(total_loss(w))"
   ]
  },
  {
   "cell_type": "code",
   "execution_count": 354,
   "metadata": {},
   "outputs": [
    {
     "name": "stdout",
     "output_type": "stream",
     "text": [
      "[-58.78637245  14.96418414 103.52936537]\n"
     ]
    },
    {
     "data": {
      "image/png": "[encoded data removed]",
      "text/plain": [
       "<Figure size 432x288 with 1 Axes>"
      ]
     },
     "metadata": {
      "needs_background": "light"
     },
     "output_type": "display_data"
    }
   ],
   "source": [
    "plt.figure()\n",
    "plt.semilogy(E)\n",
    "print(w)"
   ]
  },
  {
   "cell_type": "code",
   "execution_count": 355,
   "metadata": {},
   "outputs": [
    {
     "data": {
      "text/plain": [
       "[<matplotlib.lines.Line2D at 0x7f938adf17f0>]"
      ]
     },
     "execution_count": 355,
     "metadata": {},
     "output_type": "execute_result"
    },
    {
     "data": {
      "image/png": "[encoded data removed]",
      "text/plain": [
       "<Figure size 432x288 with 1 Axes>"
      ]
     },
     "metadata": {
      "needs_background": "light"
     },
     "output_type": "display_data"
    }
   ],
   "source": [
    "plt.figure()\n",
    "plt.plot(x[y==0,0],x[y==0,1],'r*') #plots all points with albels 0\n",
    "plt.plot(x[y==1,0],x[y==1,1],'bo') #plots all points with labels 1\n",
    "plt.plot([0,c/n[0]],[c/n[1],0]) #plots the separating hyperplane\n",
    "plt.plot([0,-w[0]/w[1]],[-w[0]/w[2],0],'g') #plots the trained hyperplane\n"
   ]
  },
  {
   "cell_type": "markdown",
   "metadata": {},
   "source": [
    "## (Statistisk överkurs)\n",
    "Om man undrar var lossen kommer ifrån så kan man ur ett statistiskt perspektiv se det såhär. Vi modelerar $y|x \\sim Ber(f_{\\omega_0,\\omega_1,\\omega_2}(x_1,x_2))$. Då blir Likelihooden för vår data\n",
    "$$P(y^1,y^2\\cdots,y^N|x^1,x^2\\cdots x^N) = \\prod_{i=1}^NP(y^i|x^i) = \\prod_{i=1} (f_{\\omega_0,\\omega_1,\\omega_2}(x_1,x_2))^{y_i}(1-f_{\\omega_0,\\omega_1,\\omega_2}(x_1,x_2))^{1-y_1}$$\n",
    "För att sannoliketsfunktionen till en $Ber(\\theta)$ variabl kan skrivas som $p_Y(y) = \\theta^y(1-\\theta)^{1-y}$. Att maximera likelihooden är samma sak som att minimera negativ logaritmen av likelihoode. Det är det vi gör ovan. Så att minimera lossen (Som i maskininlärningsvärlden kalla cross-entropy) är helt enkelt att hitta ML-skattningen av variablerna."
   ]
  },
  {
   "cell_type": "markdown",
   "metadata": {},
   "source": [
    "## Avancerade optimeringsstrategier"
   ]
  },
  {
   "cell_type": "markdown",
   "metadata": {},
   "source": [
    "Vi väljer nu att istället optimera nätverket genom att använda någon av optimeringsmetoderna Conjugate gradient, BFGS eller L-BFGS. För detta använder vi färdigskrivna bibliotek från scipy. \n"
   ]
  },
  {
   "cell_type": "code",
   "execution_count": 298,
   "metadata": {},
   "outputs": [],
   "source": [
    "import scipy.optimize"
   ]
  },
  {
   "cell_type": "markdown",
   "metadata": {},
   "source": [
    "#### Conjugate gradient:"
   ]
  },
  {
   "cell_type": "code",
   "execution_count": 308,
   "metadata": {},
   "outputs": [
    {
     "name": "stdout",
     "output_type": "stream",
     "text": [
      "Optimization terminated successfully.\n",
      "         Current function value: 0.000442\n",
      "         Iterations: 19\n",
      "         Function evaluations: 77\n",
      "         Gradient evaluations: 77\n",
      "found parameters are [-107.1738925    47.40393754  168.75774976]\n",
      "loss function value is 0.00044154048824596057\n"
     ]
    }
   ],
   "source": [
    "w = np.random.normal(size = (3,))\n",
    "res1 = scipy.optimize.fmin_cg(total_loss, w, fprime=gradient,gtol=1e-02,maxiter = 20000,full_output=True)\n",
    "xopt,fopt,*rest = res1\n",
    "print(\"found parameters are\", xopt)\n",
    "print(\"loss function value is\",fopt)"
   ]
  },
  {
   "cell_type": "code",
   "execution_count": 309,
   "metadata": {},
   "outputs": [
    {
     "data": {
      "text/plain": [
       "[<matplotlib.lines.Line2D at 0x7f938b196ef0>]"
      ]
     },
     "execution_count": 309,
     "metadata": {},
     "output_type": "execute_result"
    },
    {
     "data": {
      "image/png": "[encoded data removed]",
      "text/plain": [
       "<Figure size 432x288 with 1 Axes>"
      ]
     },
     "metadata": {
      "needs_background": "light"
     },
     "output_type": "display_data"
    }
   ],
   "source": [
    "plt.figure()\n",
    "plt.plot(x[y==0,0],x[y==0,1],'r*') #plots all points with albels 0\n",
    "plt.plot(x[y==1,0],x[y==1,1],'bo') #plots all points with labels 1\n",
    "plt.plot([0,c/n[0]],[c/n[1],0]) #plots the separating hyperplane\n",
    "plt.plot([0,-w2[0]/w2[1]],[-w2[0]/w2[2],0],'g') #plots the trained hyperplane"
   ]
  },
  {
   "cell_type": "markdown",
   "metadata": {},
   "source": [
    "#### BFGS"
   ]
  },
  {
   "cell_type": "code",
   "execution_count": 310,
   "metadata": {},
   "outputs": [
    {
     "name": "stdout",
     "output_type": "stream",
     "text": [
      "Optimization terminated successfully.\n",
      "         Current function value: 0.072270\n",
      "         Iterations: 15\n",
      "         Function evaluations: 36\n",
      "         Gradient evaluations: 36\n",
      "found parameters are [-9.66829517  2.20665352 17.71948269]\n",
      "loss function value is 0.07227013718958943\n"
     ]
    }
   ],
   "source": [
    "w = np.random.normal(size = (3,))\n",
    "res = scipy.optimize.fmin_bfgs(total_loss, w, fprime=gradient,gtol=1e-01,maxiter = 20000, full_output=True)\n",
    "\n",
    "xopt,fopt,gopt,Bopt,func_calls,grad_calls, warnflag = res #unpack\n",
    "print(\"found parameters are\", xopt)\n",
    "print(\"loss function value is\",fopt)\n"
   ]
  },
  {
   "cell_type": "code",
   "execution_count": 311,
   "metadata": {},
   "outputs": [
    {
     "data": {
      "text/plain": [
       "[<matplotlib.lines.Line2D at 0x7f938b1836a0>]"
      ]
     },
     "execution_count": 311,
     "metadata": {},
     "output_type": "execute_result"
    },
    {
     "data": {
      "image/png": "[encoded data removed]",
      "text/plain": [
       "<Figure size 432x288 with 1 Axes>"
      ]
     },
     "metadata": {
      "needs_background": "light"
     },
     "output_type": "display_data"
    }
   ],
   "source": [
    "plt.figure()\n",
    "plt.plot(x[y==0,0],x[y==0,1],'r*') #plots all points with albels 0\n",
    "plt.plot(x[y==1,0],x[y==1,1],'bo') #plots all points with labels 1\n",
    "plt.plot([0,c/n[0]],[c/n[1],0]) #plots the separating hyperplane\n",
    "plt.plot([0,-w3[0]/w3[1]],[-w3[0]/w3[2],0],'g') #plots the trained hyperplane"
   ]
  },
  {
   "cell_type": "code",
   "execution_count": null,
   "metadata": {},
   "outputs": [],
   "source": []
  }
 ],
 "metadata": {
  "kernelspec": {
   "display_name": "Python 3",
   "language": "python",
   "name": "python3"
  },
  "language_info": {
   "codemirror_mode": {
    "name": "ipython",
    "version": 3
   },
   "file_extension": ".py",
   "mimetype": "text/x-python",
   "name": "python",
   "nbconvert_exporter": "python",
   "pygments_lexer": "ipython3",
   "version": "3.7.3"
  }
 },
 "nbformat": 4,
 "nbformat_minor": 4
}
