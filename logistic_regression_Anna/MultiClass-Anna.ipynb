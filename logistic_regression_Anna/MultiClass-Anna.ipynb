{
 "cells": [
  {
   "cell_type": "code",
   "execution_count": 320,
   "metadata": {},
   "outputs": [],
   "source": [
    "import numpy as np\n",
    "import matplotlib.pyplot as plt"
   ]
  },
  {
   "cell_type": "markdown",
   "metadata": {},
   "source": [
    "### Multiklass-klassificering "
   ]
  },
  {
   "cell_type": "markdown",
   "metadata": {},
   "source": [
    "Detta är ett första test för multiklass-klassificering. Data genereras med vägledning från https://machinelearningmastery.com/generate-test-datasets-python-scikit-learn/"
   ]
  },
  {
   "cell_type": "code",
   "execution_count": 321,
   "metadata": {},
   "outputs": [
    {
     "data": {
      "image/png": "[encoded data removed]",
      "text/plain": [
       "<Figure size 432x288 with 1 Axes>"
      ]
     },
     "metadata": {
      "needs_background": "light"
     },
     "output_type": "display_data"
    }
   ],
   "source": [
    "from sklearn.datasets import make_blobs\n",
    "from pandas import DataFrame\n",
    "# generate 2d (linear) classification dataset\n",
    "N = 200\n",
    "X, y = make_blobs(n_samples=N, centers=3, n_features=2)\n",
    "#rescale x-values?\n",
    "X[:,0] = (X[:,0]-np.mean(X[:,0]))/np.std(X[:,0])\n",
    "X[:,1] = (X[:,1]-np.mean(X[:,1]))/np.std(X[:,1])\n",
    "# scatter plot, dots colored by class value\n",
    "df = DataFrame(dict(x=X[:,0], y=X[:,1], label=y))\n",
    "colors = {0:'red', 1:'blue', 2:'green'}\n",
    "fig, ax = plt.subplots()\n",
    "grouped = df.groupby('label')\n",
    "for key, group in grouped:\n",
    "    group.plot(ax=ax, kind='scatter', x='x', y='y', label=key, color=colors[key])\n",
    "plt.show()"
   ]
  },
  {
   "cell_type": "markdown",
   "metadata": {},
   "source": [
    "Vi försöker lösa detta problem genom att lösa tre separata binära klassificeringsproblem enligt \"One-vs-all\", där varje delproblem löses med logistisk regression. Dvs, vi tränar tre funktioner $f_w^i$ där $i=1,2,3$ där vi för varje klass i predikterar sannolikheten att $y=i$. För en ny input x görs en prediktion genom att beräkna $\\max_i f_w^i(x)$."
   ]
  },
  {
   "cell_type": "markdown",
   "metadata": {},
   "source": [
    "För varje utvald klass har vi liksom modellen \n",
    "$$f_{\\omega_0,\\omega_1,\\omega_2}(x_1,x_2) = P(Y = 1|x,\\vec{\\omega}) = \\frac{1}{1+e^{-(\\omega_0 + \\omega_1 x_1 + \\omega_2 x_2)}} = \\frac{e^{(\\omega_0 + \\omega_1 x_1 + \\omega_2 x_2)}}{1+e^{(\\omega_0 + \\omega_1 x_1 + \\omega_2 x_2)}}$$\n",
    "Och loss funktionen\n",
    "$$L(f_{\\omega_0,\\omega_1,\\omega_2}(x_1,x_2),y) = -y\\log(f_{\\omega_0,\\omega_1,\\omega_2}(x_1,x_2)) - (1-y)\\log(1-f_{\\omega_0,\\omega_1,\\omega_2}(x_1,x_2))$$\n",
    "Så lossen för all våran data är\n",
    "$$L = -\\sum_{i=0}^N y^i\\log(f_{\\omega_0,\\omega_1,\\omega_2}(x^i_1,x^i_2)) + (1-y^i)\\log(1-f_{\\omega_0,\\omega_1,\\omega_2}(x^i_1,x^i_2))$$\n",
    "Det är den här lossen vi vill minimera med någon metod. Alltså hitta de optimala parametrarna $\\omega_0,\\omega_1,\\omega_2$"
   ]
  },
  {
   "cell_type": "code",
   "execution_count": 322,
   "metadata": {},
   "outputs": [],
   "source": [
    "def f(x,w):\n",
    "    \"\"\"Output of the neural network, where w is the 3D vector containing the weights and x1 and x2 are the \n",
    "    input coordinates. Outputs a value in the range [0,1]. \"\"\"\n",
    "    a = w[0]+w[1]*x[0]+w[2]*x[1]\n",
    "    return 1/(1+np.exp(-a))"
   ]
  },
  {
   "cell_type": "code",
   "execution_count": 323,
   "metadata": {},
   "outputs": [],
   "source": [
    "def loss(x,w,y):\n",
    "    #log-loss or binary cross-entropy is used\n",
    "    #Returns value -y*np.log(f(x1,x2,w))-(1-y)*np.log(1-f(x1,x2,w))\n",
    "    if y == 1:\n",
    "        return -np.log(f(x,w))\n",
    "    else:\n",
    "        return -np.log(1-f(x,w))"
   ]
  },
  {
   "cell_type": "code",
   "execution_count": 324,
   "metadata": {},
   "outputs": [],
   "source": [
    "def total_loss(x,w,y):\n",
    "    #This is the total log-loss from all training data.\n",
    "    L = 0\n",
    "    for i in range(N):\n",
    "        L += loss(x[i,:],w,y[i])\n",
    "    return L/N\n",
    "    "
   ]
  },
  {
   "cell_type": "markdown",
   "metadata": {},
   "source": [
    "Använder kedjeregeln så att vi kan utnyttja att $\\frac{\\partial L}{\\partial w_i} = \\frac{\\partial L}{\\partial f}\\frac{\\partial f}{\\partial a}\\frac{\\partial a}{\\partial w_i}$"
   ]
  },
  {
   "cell_type": "code",
   "execution_count": 325,
   "metadata": {},
   "outputs": [],
   "source": [
    "def gradient_sample(w,x,y):\n",
    "    #Computes the gradient with respect to one sample only by using backpropagation (the chain rule)\n",
    "    \n",
    "    #xvec = np.array([1,x[0],x[1]])\n",
    "    #return xvec*(-y+1/(1+np.exp(w@xvec))) #Division by zero in log if this is used\n",
    "    \n",
    "    a = w[0]+w[1]*x[0]+w[2]*x[1];\n",
    "    dfda = np.exp(-a)/((1+np.exp(-a))**2)\n",
    "    \n",
    "    dadw = np.array([1,x[0],x[1]])\n",
    "    if y ==1:\n",
    "        return -dfda*dadw/f(x,w)\n",
    "    else:\n",
    "        return dfda*dadw/(1-f(x,w))\n",
    "    \n"
   ]
  },
  {
   "cell_type": "code",
   "execution_count": 326,
   "metadata": {},
   "outputs": [],
   "source": [
    "def gradient(w,x = X,y=y):\n",
    "    #Computes total gradient \n",
    "    g = 0\n",
    "    for i in range(N):\n",
    "        g = g+gradient_sample(w,x[i,:],y[i])\n",
    "    return g"
   ]
  },
  {
   "cell_type": "code",
   "execution_count": 327,
   "metadata": {},
   "outputs": [],
   "source": [
    "def train(y,train_sessions,x =X,N =N,SGD=1,alpha = 0.1):\n",
    "    w = np.random.normal(size = (3,))\n",
    "    E = []\n",
    "\n",
    "    for i in range(train_sessions):\n",
    "        #If training with gradient descent\n",
    "        if not SGD:\n",
    "            w = w-alpha*gradient(w,x,y)\n",
    "        else:    \n",
    "            #If training with SGD - can I choose the same sample multiple times?\n",
    "            k = np.random.randint(0,N)\n",
    "            w = w-alpha*gradient_sample(w,x[k,:],y[k])\n",
    "\n",
    "        if i%N == 0:\n",
    "            E.append(total_loss(x,w,y))\n",
    "    return w,E"
   ]
  },
  {
   "cell_type": "markdown",
   "metadata": {},
   "source": [
    "Här vill vi nu träna tre olika nätverk"
   ]
  },
  {
   "cell_type": "code",
   "execution_count": 328,
   "metadata": {},
   "outputs": [
    {
     "name": "stdout",
     "output_type": "stream",
     "text": [
      "[-3.02363831 -4.13673375 -7.72746612] [-2.5517607   8.43946627  0.39007991] [ 3.17749409  3.5584041  -7.43789092]\n"
     ]
    }
   ],
   "source": [
    "train_sessions = 20000\n",
    "ytemp = y.copy()\n",
    "\n",
    "for i in range(N):\n",
    "    if y[i] == 2:\n",
    "        ytemp[i] =1\n",
    "    elif y[i] == 1:\n",
    "        ytemp[i] = 0\n",
    "w1,E1 = train(ytemp,train_sessions,SGD = 1)\n",
    "\n",
    "ytemp = y.copy()\n",
    "for i in range(N):\n",
    "    if y[i] == 2:\n",
    "        ytemp[i] =0\n",
    "w2,E2 = train(ytemp,train_sessions,SGD = 1)\n",
    "\n",
    "ytemp = y.copy()\n",
    "for i in range(N):\n",
    "    if y[i] == 2:\n",
    "        ytemp[i] =1\n",
    "w3,E3 = train(ytemp,train_sessions,SGD = 1)\n",
    "\n",
    "print(w1,w2,w3)\n"
   ]
  },
  {
   "cell_type": "code",
   "execution_count": 329,
   "metadata": {},
   "outputs": [
    {
     "data": {
      "text/plain": [
       "[<matplotlib.lines.Line2D at 0x7f49ff389ef0>]"
      ]
     },
     "execution_count": 329,
     "metadata": {},
     "output_type": "execute_result"
    },
    {
     "data": {
      "image/png": "[encoded data removed]",
      "text/plain": [
       "<Figure size 432x288 with 1 Axes>"
      ]
     },
     "metadata": {
      "needs_background": "light"
     },
     "output_type": "display_data"
    }
   ],
   "source": [
    "plt.figure()\n",
    "plt.semilogy(E1,'r')\n",
    "plt.semilogy(E2,'b')\n",
    "plt.semilogy(E3,'g')\n"
   ]
  },
  {
   "cell_type": "code",
   "execution_count": 330,
   "metadata": {},
   "outputs": [
    {
     "data": {
      "text/plain": [
       "[<matplotlib.lines.Line2D at 0x7f49ff1b47f0>]"
      ]
     },
     "execution_count": 330,
     "metadata": {},
     "output_type": "execute_result"
    },
    {
     "data": {
      "image/png": "[encoded data removed]",
      "text/plain": [
       "<Figure size 432x288 with 1 Axes>"
      ]
     },
     "metadata": {
      "needs_background": "light"
     },
     "output_type": "display_data"
    }
   ],
   "source": [
    "plt.figure()\n",
    "plt.plot(X[y==0,0],X[y==0,1],'r+') #plots all points with albels 0\n",
    "plt.plot(X[y==1,0],X[y==1,1],'b+') #plots all points with labels 1\n",
    "plt.plot(X[y==2,0],X[y==2,1],'g+') #plots all points with labels 2\n",
    "XX = np.linspace(-1.5,1.5)\n",
    "plt.plot(XX,-w1[0]/w1[2]-(w1[1]/w1[2])*XX,'k') #plots the trained hyperplane 1\n",
    "plt.plot(XX,-w2[0]/w2[2]-(w2[1]/w2[2])*XX,'m') #plots the trained hyperplane 2\n",
    "plt.plot(XX,-w3[0]/w3[2]-(w3[1]/w3[2])*XX,'c') #plots the trained hyperplane 3\n",
    "\n",
    "#plt.plot([0,-w1[0]/w1[1]],[-w1[0]/w1[2],0],'k') \n",
    "#plt.plot([0,-w2[0]/w2[1]],[-w2[0]/w2[2],0],'m') \n",
    "#plt.plot([0,-w3[0]/w3[1]],[-w3[0]/w3[2],0],'c') "
   ]
  },
  {
   "cell_type": "markdown",
   "metadata": {},
   "source": [
    "### Testdata"
   ]
  },
  {
   "cell_type": "markdown",
   "metadata": {},
   "source": [
    "Vi testar nu att generera ny data och försöker klassificera denna med hjälp av de tre nätverken."
   ]
  },
  {
   "cell_type": "code",
   "execution_count": 331,
   "metadata": {},
   "outputs": [],
   "source": [
    "np.random.seed(133)\n",
    "M = 50 #number of data points\n",
    "x_test = np.random.uniform(-1.5,1.5, size = (M,2))"
   ]
  },
  {
   "cell_type": "code",
   "execution_count": 332,
   "metadata": {},
   "outputs": [
    {
     "name": "stdout",
     "output_type": "stream",
     "text": [
      "[0.9999841417625064, 2.1172049574769155e-06, 0.9995672018941896]\n",
      "[0.9991568423695897, 0.0180017385612614, 0.9999941044806555]\n",
      "[0.99958805333742, 0.000516153930728042, 0.999924725125793]\n",
      "[0.0009211150071921109, 0.9997541889409427, 0.9998914817195771]\n",
      "[0.9904665071988804, 0.0004771359640063688, 0.9980612440620978]\n",
      "[1.2382743916526935e-05, 0.999997978975707, 0.9998968151041672]\n",
      "[0.00033683508411720534, 5.437729538793781e-06, 2.4778367623576694e-05]\n",
      "[2.522148728298733e-05, 0.001678884047477983, 0.0003464784244295028]\n",
      "[1.977503009771528e-06, 0.002049870812531599, 3.191763147708101e-05]\n",
      "[0.9999189076072009, 1.1813414264194524e-05, 0.9995352027214831]\n",
      "[0.9999964014187661, 4.726522541196729e-07, 0.9996170740593106]\n",
      "[0.9999066115471772, 0.0005410400848565654, 0.9999838716277205]\n",
      "[0.0002998665818657681, 0.0007515110651243391, 0.002011373518846188]\n",
      "[0.0001419708900014861, 0.9999975734565032, 0.9999895845218637]\n",
      "[0.9989921341694218, 0.0021304702900550613, 0.9999493933633876]\n",
      "[0.001507289724327854, 0.00010942589536132003, 0.0017566607856234605]\n",
      "[0.9938332263047619, 0.0010221358867689313, 0.9993799429503377]\n",
      "[6.029348130054023e-05, 0.006572093823125493, 0.0029194798695317504]\n",
      "[0.9999950735411205, 3.6450067844248487e-06, 0.9999190683668125]\n",
      "[0.00019803185885177037, 0.0007118924992694239, 0.0012601956492686707]\n",
      "[0.9999068288674425, 0.0005353420068200901, 0.9999837525828019]\n",
      "[3.978522515524957e-05, 0.999995661916074, 0.9999360019645738]\n",
      "[0.001270949023481672, 0.9999411954799174, 0.9999788554883956]\n",
      "[4.291019879460699e-06, 0.9999933153539161, 0.9991015556650517]\n",
      "[0.99998682251349, 7.246752088548916e-07, 0.9990417383279105]\n",
      "[0.0010937426095438195, 0.00285554494693284, 0.024701413012913502]\n",
      "[2.2100015482598973e-05, 0.01662566557366894, 0.0025065310201948248]\n",
      "[0.00011652282240282671, 0.9999688915684303, 0.9998684377018735]\n",
      "[0.00026494421589255105, 0.9997895525597408, 0.9996690308346945]\n",
      "[0.0008756517506207646, 8.989470441791604e-05, 0.0008484798261421758]\n",
      "[0.0009674835278451528, 0.9994495539354318, 0.9997838375790227]\n",
      "[0.9924487272417543, 0.042327811939471605, 0.9999758015023378]\n",
      "[0.00015264563549465622, 0.006093553232779153, 0.006922787321417127]\n",
      "[3.583114372513521e-05, 3.3445331389729666e-05, 1.3645663243468785e-05]\n",
      "[0.20311059997662265, 0.9284225457676633, 0.9999276612067791]\n",
      "[0.0006049224078355095, 1.4387149087000371e-06, 1.3234547332764737e-05]\n",
      "[0.9999076239462796, 0.004972177040458231, 0.9999979176428918]\n",
      "[0.9998767813960191, 0.0007632991949821908, 0.9999844393161833]\n",
      "[0.0024814795698384394, 0.985542957696236, 0.9983146844294096]\n",
      "[0.00011861349286354254, 0.9999822744441862, 0.9999228077120238]\n",
      "[8.935772708984221e-05, 0.0022632229000047557, 0.0016307354087210322]\n",
      "[1.00411161671571e-05, 0.0018261922814899066, 0.00014783556062913675]\n",
      "[4.6929442650719227e-07, 0.0035693399732077595, 1.2449381898647731e-05]\n",
      "[4.9399873976688085e-05, 0.0005194236444260967, 0.00023282877020291862]\n",
      "[0.00035234524075361946, 0.9999599697605622, 0.9999457230633639]\n",
      "[1.1591788105784161e-05, 0.00048428749629169423, 5.059660052816852e-05]\n",
      "[1.1741216012299578e-06, 0.0019196685642997484, 1.7761739896787262e-05]\n",
      "[0.0007695166851554447, 0.9998731867991872, 0.9999290426733378]\n",
      "[4.7552291754716355e-05, 0.9998412350097988, 0.9985552812655253]\n",
      "[0.9990498239947165, 0.01084104557283342, 0.9999893445059334]\n",
      "[0.00012275980155910225, 0.9999861915701086, 0.9999406844097452]\n",
      "[0.043271916538804196, 0.8706363835795085, 0.9992455734129619]\n",
      "[0.003073196108525913, 0.0007359127357958589, 0.020316355702119763]\n",
      "[7.989601953856865e-05, 0.9999927665398244, 0.9999494040438744]\n",
      "[0.9999926061459018, 5.8177539051172776e-08, 0.9946310943877494]\n",
      "[1.0347568694712769e-05, 0.9999883389149794, 0.999384300801472]\n",
      "[9.366984204297429e-05, 3.7492627060841904e-05, 3.9944595188019634e-05]\n",
      "[0.00016769281109697847, 0.0007853025175974717, 0.001165970284237378]\n",
      "[0.9990669633352871, 0.010866171805117661, 0.9999895609656075]\n",
      "[0.9974040130305944, 0.0002585349478290652, 0.999090314939215]\n",
      "[3.128485090700401e-05, 0.9999860215746493, 0.9997618069388193]\n",
      "[0.002864467360322165, 0.9919731790989855, 0.9991541108032962]\n",
      "[3.995630354566075e-05, 0.0003608162582620309, 0.0001346180151687063]\n",
      "[0.9998738418053662, 5.1523340728404e-07, 0.9873577719984691]\n",
      "[2.6767731588525776e-05, 0.0058641256209674255, 0.0011605751406282986]\n",
      "[0.9999675129036263, 0.0007995550432845143, 0.9999961142641072]\n",
      "[0.00026891484529471127, 0.9996035554189321, 0.9994176319666549]\n",
      "[0.00022518454358714328, 0.9884817240392051, 0.9848129358773383]\n",
      "[0.0004898747686336056, 0.0003817853071458843, 0.0017746703455256843]\n",
      "[0.0019031093865477875, 0.9998447952555425, 0.9999657853834056]\n",
      "[0.003246814265600354, 0.9638426134046547, 0.9969691568361584]\n",
      "[0.001917620023544658, 0.9968562865163022, 0.9994644817408677]\n",
      "[8.0256779481476e-05, 0.9995116439789874, 0.9976164226341637]\n",
      "[6.610624040005456e-06, 0.0021427536859184595, 0.00011230222352221725]\n",
      "[0.9996154636790577, 0.0011125868214316736, 0.9999652718413096]\n",
      "[0.9999785899379315, 0.0001938809903072559, 0.9999906520563339]\n",
      "[0.998636279000974, 0.007600679645417722, 0.9999786877320687]\n",
      "[0.0001782982721313693, 0.9999978979986264, 0.9999927435344281]\n",
      "[0.0005046045645059888, 0.9996522746874752, 0.9997262800091171]\n",
      "[2.161561933427722e-05, 0.9999986392708244, 0.9999590570128403]\n",
      "[0.002569133383087239, 1.110424586952653e-05, 0.00037074062164895995]\n",
      "[3.1510652766634072e-06, 0.23500967432247924, 0.004992734680200163]\n",
      "[0.9999682475734775, 1.92686987809253e-06, 0.9990500241741417]\n",
      "[2.5011547089582897e-05, 0.0005490274059362919, 0.00012329916920354533]\n",
      "[0.9993627694754017, 0.0016415189332723854, 0.9999595310701777]\n",
      "[0.9980943074140568, 4.931737327910793e-05, 0.9969697729022841]\n",
      "[0.0006536426276725823, 0.00020966754398020124, 0.0013715120039301811]\n",
      "[0.9997721590974008, 0.0004554158200050802, 0.9999535537866939]\n",
      "[0.9999904793016743, 6.967011419993684e-05, 0.9999894580443678]\n",
      "[0.009228955446132508, 0.7891027291051923, 0.9936756141425447]\n",
      "[0.9999648656527741, 3.7448841907543184e-05, 0.9999305063191617]\n",
      "[0.00016639124244406997, 5.883695692455031e-05, 0.00010776397560787814]\n",
      "[4.430102544971012e-05, 0.00269002971986185, 0.00094227423442607]\n",
      "[0.0003589647068408829, 0.9997116491598361, 0.9996748917034409]\n",
      "[0.0020642463114628256, 0.9999339526490317, 0.9999855925535841]\n",
      "[4.475019881649076e-06, 0.0006098512053714035, 2.3928725693199745e-05]\n",
      "[0.000985479197099063, 0.9998733009376072, 0.9999447694476667]\n",
      "[0.9884978387347441, 0.006590423287139798, 0.9997889712629714]\n",
      "[0.999908783991646, 5.47257069356715e-06, 0.9989414811003823]\n",
      "[2.9580984871825855e-05, 0.9999992470328701, 0.9999826495184415]\n",
      "[0.9977971412114217, 0.2067091031476187, 0.9999986327648193]\n",
      "[0.0034556060645174655, 0.9931558305271206, 0.9993959478023792]\n",
      "[0.00027474836024491724, 0.9999765125935752, 0.9999571942548799]\n",
      "[0.006348139340177428, 5.796637027873444e-07, 6.200658220980617e-05]\n",
      "[0.9999757926512298, 0.0012368580291115714, 0.9999980643063723]\n",
      "[8.430224472291743e-05, 0.005769235726626461, 0.003628216819919229]\n",
      "[0.00011141588173724481, 0.0003508828544256582, 0.00036913903603678016]\n",
      "[0.999819117331959, 0.0005893535350565903, 0.9999709466620721]\n",
      "[0.0002210946795994704, 8.638779632033472e-05, 0.0002040822856643509]\n",
      "[0.9993758479675618, 0.0001861189100857228, 0.9997085017226205]\n",
      "[0.5381083646936994, 0.34724282140274426, 0.9997087890528901]\n",
      "[0.0030623293175186268, 0.999946250665658, 0.9999919946797811]\n",
      "[2.2981330123774958e-05, 0.0007976052580333798, 0.00015941936965479782]\n",
      "[0.0002003050656165774, 0.9970334746966149, 0.9950553999196498]\n",
      "[3.681474185129675e-05, 0.0006702751934912266, 0.0002186324278386607]\n",
      "[8.054185194916639e-05, 0.00010524681189536194, 8.829987109848095e-05]\n",
      "[0.9998347349167126, 3.765535708296692e-05, 0.9996703534258782]\n",
      "[1.744905123867461e-05, 0.0031358600405690254, 0.00042402324183777695]\n",
      "[6.167224738287306e-05, 0.0001457174529855951, 9.087948891941435e-05]\n",
      "[0.008854483088762936, 0.9979230030231407, 0.9999223111131248]\n",
      "[2.6183720614999654e-06, 0.001783381467842599, 3.728189089545587e-05]\n",
      "[0.00045808185452711177, 0.9999933066226733, 0.9999919085782778]\n",
      "[0.0005917526392500376, 0.9998501311493253, 0.9998922028628401]\n",
      "[3.266547491014213e-05, 0.00012647132751612331, 4.204234151806148e-05]\n",
      "[0.00021407683390001943, 0.9999611745169154, 0.9999127430541851]\n",
      "[0.00011973729329698858, 0.0019724789340687166, 0.0019304454922223569]\n",
      "[0.9999829762617916, 0.000335385558957992, 0.9999955106570497]\n",
      "[0.0003921414989300093, 0.9998337342424171, 0.9998204260875507]\n",
      "[1.2516158085224742e-05, 0.00024085005860492248, 2.882314295213465e-05]\n",
      "[0.29163061232120707, 0.022254990747678612, 0.9852947996124672]\n",
      "[0.00020504990965611143, 0.9999033710535796, 0.9997899049460321]\n",
      "[8.064610442549835e-05, 0.000863527681834681, 0.0006081108596957823]\n",
      "[0.004542676923361167, 0.9978246602688059, 0.9998403887148247]\n",
      "[1.892890552386841e-06, 0.99995460543603, 0.9882657910584715]\n",
      "[1.2184345659364964e-05, 0.001137527854887766, 0.00011639644257654868]\n",
      "[0.9998717338306319, 1.0387802922472068e-06, 0.993197419178537]\n",
      "[0.018105091062988677, 0.9965606084291281, 0.9999405559202234]\n",
      "[0.9999953494223551, 1.1025315906962399e-05, 0.9999722970006231]\n",
      "[0.9991882603747956, 0.008887306336619544, 0.9999890762608814]\n",
      "[9.488377962012576e-05, 6.119165142524294e-05, 6.338647420967918e-05]\n",
      "[7.782595974518558e-05, 0.9999850824903352, 0.9998991732330373]\n",
      "[2.18046290097995e-05, 0.9999972523049446, 0.9999227422925777]\n",
      "[3.095786603375849e-06, 0.0014978309891189052, 3.761302410894247e-05]\n",
      "[0.00012339269340422908, 0.9999730828929807, 0.9998912415071515]\n",
      "[0.001033112195351595, 0.9999318759562886, 0.9999701735650646]\n",
      "[0.0007975249572511934, 5.509030804968128e-06, 5.984840633882179e-05]\n",
      "[0.003026837469929234, 2.3898186640814153e-05, 0.000882733198683556]\n",
      "[9.825809978867264e-05, 0.0024853335135425715, 0.0019551455527097254]\n",
      "[0.00011398517614178715, 0.001531505092850171, 0.0014569427607246778]\n",
      "[6.682700097966358e-05, 2.1384596366707062e-05, 1.6987471879260827e-05]\n",
      "[8.517990474637507e-06, 0.9999887394260809, 0.9992744642461727]\n",
      "[0.9981446678761329, 8.4957710683598e-05, 0.9982058546145147]\n",
      "[1.1340940893089535e-05, 0.19483957575433594, 0.014464971771538222]\n",
      "[8.296981611857253e-06, 0.003953411906944473, 0.00024790153955774876]\n",
      "[0.9998480846258562, 0.003911496073029589, 0.9999957105383283]\n",
      "[0.0014901887978745738, 0.9442234337128407, 0.9899745780161765]\n",
      "[0.0001667415570811406, 0.999979554417952, 0.9999376047841891]\n",
      "[0.000630250503509178, 0.9992580038183384, 0.9995619966246159]\n",
      "[0.0002715029473202492, 1.593243515871913e-05, 5.336638466626745e-05]\n",
      "[9.423806528398026e-05, 2.6797880058201845e-05, 2.9545999623747665e-05]\n",
      "[0.00014875085925496407, 0.9999408753319841, 0.9998148093367127]\n",
      "[0.9994526480203989, 3.2949028913628274e-06, 0.9898188116244395]\n",
      "[2.448697601774623e-05, 0.0004915202181783148, 0.00010905256986484334]\n",
      "[0.9999883623625686, 0.0005298428227576065, 0.9999979884791325]\n",
      "[0.0012945201553468935, 0.9994214693941268, 0.9998313864224248]\n",
      "[0.9999780503076071, 4.31061054285286e-05, 0.9999619914513062]\n",
      "[0.9999800070611349, 1.0393346106167686e-05, 0.9998726788728987]\n",
      "[0.9999450707633264, 8.439633595726092e-05, 0.9999481871306738]\n",
      "[0.0004156119600739043, 0.9800403968323289, 0.9863315058510962]\n",
      "[0.9998304494059086, 3.464660180011315e-05, 0.9996349235003308]\n",
      "[0.0013215185518621185, 0.9879736950905685, 0.9973172894137509]\n",
      "[0.9986361620617873, 0.0075672139277999095, 0.9999785988900952]\n",
      "[0.9993963493324322, 0.0011690626567625367, 0.9999476864710108]\n",
      "[0.0007261504238103194, 0.9999706790945329, 0.9999803309953555]\n",
      "[7.645402211153158e-05, 0.0001757836291836866, 0.00013403758963102935]\n",
      "[0.9999934738771461, 1.189865711987428e-07, 0.997535163518075]\n",
      "[0.0006185986486253102, 9.707642672981885e-06, 7.781470098657846e-05]\n",
      "[0.9999147414260892, 5.504278796561514e-05, 0.9998805757798935]\n",
      "[0.0008280224520123634, 0.9995456017965013, 0.9997878183306099]\n",
      "[0.9999975540521503, 3.1203732124645826e-05, 0.9999944138775799]\n",
      "[5.723730937331434e-05, 0.9998581104553848, 0.9989185496158413]\n",
      "[9.395080569923192e-05, 2.6864932576615736e-05, 2.9522652765591498e-05]\n",
      "[0.9997812431260028, 8.171554382857993e-05, 0.9997848682504314]\n",
      "[2.132906517041929e-06, 0.0006043500692454425, 1.1237529177373818e-05]\n",
      "[0.9942282986924322, 0.0034364477985553343, 0.999809430178376]\n",
      "[0.9999654209197821, 0.0011926432809723538, 0.9999971320877241]\n",
      "[0.0008988213829878035, 0.9945413262370879, 0.9980898698788176]\n",
      "[0.9999526868020745, 1.0383441125377902e-05, 0.9996961899726223]\n",
      "[0.9995856237967071, 0.00024263516307960765, 0.999848774453807]\n",
      "[0.000214356224497536, 0.9999267884263702, 0.9998442009509578]\n",
      "[0.9999048902211831, 0.0005305892309634013, 0.9999832753484492]\n",
      "[6.564331376339253e-06, 0.0015470543458056367, 8.2696466193005e-05]\n",
      "[0.9969757852286705, 0.0011363506089923801, 0.9997265676195212]\n",
      "[0.9999991453437994, 1.0960942744437728e-05, 0.9999949569148933]\n",
      "[0.9996916684611212, 0.002013198689685337, 0.9999838715746748]\n",
      "[0.9992008013467581, 0.002875706750026277, 0.999969601236603]\n",
      "[1.4995225661476814e-05, 0.007613292087593891, 0.0008232039313041167]\n",
      "[0.9999855547445835, 0.0002821885959068618, 0.9999955438508547]\n",
      "[2.2782203291143728e-05, 0.006364504819989199, 0.001063804453362939]\n",
      "[3.5268060372243892e-06, 0.9999983032684295, 0.9996879940880958]\n"
     ]
    },
    {
     "data": {
      "image/png": "[encoded data removed]",
      "text/plain": [
       "<Figure size 432x288 with 1 Axes>"
      ]
     },
     "metadata": {
      "needs_background": "light"
     },
     "output_type": "display_data"
    }
   ],
   "source": [
    "plt.figure()\n",
    "plt.plot(X[y==0,0],X[y==0,1],'r+') #plots all points with albels 0\n",
    "plt.plot(X[y==1,0],X[y==1,1],'b+') #plots all points with labels 1\n",
    "plt.plot(X[y==2,0],X[y==2,1],'g+') #plots all points with labels 2\n",
    "\n",
    "plt.plot(XX,-w1[0]/w1[2]-(w1[1]/w1[2])*XX,'k') #plots the trained hyperplane 1\n",
    "plt.plot(XX,-w2[0]/w2[2]-(w2[1]/w2[2])*XX,'m') #plots the trained hyperplane 2\n",
    "plt.plot(XX,-w3[0]/w3[2]-(w3[1]/w3[2])*XX,'c') #plots the trained hyperplane 3\n",
    "\n",
    "w = [w1,w2,w3]\n",
    "test = 0\n",
    "\n",
    "if test:\n",
    "    y_test = np.zeros(shape = (M,))\n",
    "\n",
    "    for i in range(M):\n",
    "        res = [0,0,0]\n",
    "        for k in range(3):\n",
    "            res[k] = f(x_test[i],w[k])\n",
    "        #print(res)\n",
    "        j = np.argmax(res) #Vi predikterar att träningsdata tillhör den klass för vilken f_w^i antar störst värde\n",
    "        y_test[i] = j\n",
    "\n",
    "    #print(y_test)\n",
    "    plt.plot(x_test[y_test==0,0],x_test[y_test==0,1],'ro') #plots all points with albels 0\n",
    "    plt.plot(x_test[y_test==1,0],x_test[y_test==1,1],'bo') #plots all points with labels 1\n",
    "    plt.plot(x_test[y_test==2,0],x_test[y_test==2,1],'go') #plots all points with labels 2\n",
    "else:\n",
    "    #Predikterar med hjälp av max även för träningsdatan\n",
    "    y_train = np.zeros(shape = (N,))\n",
    "    for i in range(N):\n",
    "        res = [0,0,0]\n",
    "        for k in range(3):\n",
    "            res[k] = f(X[i],w[k])\n",
    "        print(res)\n",
    "        j = np.argmax(res) #Vi predikterar att träningsdata tillhör den klass för vilken f_w^i antar störst värde\n",
    "        y_train[i] = j\n",
    "    plt.plot(X[y_train==0,0],X[y_train==0,1],'r+') #plots all points with albels 0\n",
    "    plt.plot(X[y_train==1,0],X[y_train==1,1],'b+') #plots all points with labels 1\n",
    "    plt.plot(X[y_train==2,0],X[y_train==2,1],'g+') #plots all points with labels 2\n",
    "\n",
    "    "
   ]
  },
  {
   "cell_type": "code",
   "execution_count": null,
   "metadata": {},
   "outputs": [],
   "source": []
  },
  {
   "cell_type": "code",
   "execution_count": null,
   "metadata": {},
   "outputs": [],
   "source": []
  },
  {
   "cell_type": "code",
   "execution_count": null,
   "metadata": {},
   "outputs": [],
   "source": []
  }
 ],
 "metadata": {
  "kernelspec": {
   "display_name": "Python 3",
   "language": "python",
   "name": "python3"
  },
  "language_info": {
   "codemirror_mode": {
    "name": "ipython",
    "version": 3
   },
   "file_extension": ".py",
   "mimetype": "text/x-python",
   "name": "python",
   "nbconvert_exporter": "python",
   "pygments_lexer": "ipython3",
   "version": "3.5.2"
  }
 },
 "nbformat": 4,
 "nbformat_minor": 4
}
